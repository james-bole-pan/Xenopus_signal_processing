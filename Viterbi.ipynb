{
  "nbformat": 4,
  "nbformat_minor": 0,
  "metadata": {
    "colab": {
      "name": "Viterbi.ipynb",
      "provenance": [],
      "collapsed_sections": [],
      "machine_shape": "hm",
      "include_colab_link": true
    },
    "kernelspec": {
      "name": "python3",
      "display_name": "Python 3"
    },
    "language_info": {
      "name": "python"
    },
    "accelerator": "GPU",
    "gpuClass": "standard"
  },
  "cells": [
    {
      "cell_type": "markdown",
      "metadata": {
        "id": "view-in-github",
        "colab_type": "text"
      },
      "source": [
        "<a href=\"https://colab.research.google.com/github/jamespan1118/Xenopus_signal_processing/blob/main/Viterbi.ipynb\" target=\"_parent\"><img src=\"https://colab.research.google.com/assets/colab-badge.svg\" alt=\"Open In Colab\"/></a>"
      ]
    },
    {
      "cell_type": "markdown",
      "source": [
        "###Objective: Create segments that contains bouts of calling"
      ],
      "metadata": {
        "id": "PPQreQ_-KGJa"
      }
    },
    {
      "cell_type": "code",
      "source": [
        "import librosa\n",
        "import os\n",
        "from librosa import display\n",
        "import scipy\n",
        "import numpy as np\n",
        "from matplotlib import pyplot as plt\n",
        "import math"
      ],
      "metadata": {
        "id": "saXrNQGWKEW-"
      },
      "execution_count": 2,
      "outputs": []
    },
    {
      "cell_type": "code",
      "source": [
        "from scipy import fftpack, signal\n",
        "from scipy.io.wavfile import write\n",
        "from scipy.fft import fft, fftfreq, rfft, rfftfreq, irfft"
      ],
      "metadata": {
        "id": "myH2JejRdzi6"
      },
      "execution_count": 3,
      "outputs": []
    },
    {
      "cell_type": "markdown",
      "source": [
        "###Step 1: Calculate the probability of call state given amplitude\n",
        "Original code can be found in the notebook Minimum_threshold.ipynb"
      ],
      "metadata": {
        "id": "sj9lFLkoKizo"
      }
    },
    {
      "cell_type": "code",
      "source": [
        "def z_score(data):\n",
        "  error = math.exp(-100)\n",
        "  if(np.std(data)<0.001):\n",
        "    error=0.005\n",
        "  z = (data)/(np.std(data)+error) # The filter's pretty strong so let's just normalize by standard deviation. But error should = threshold?\n",
        "  return z\n",
        "\n",
        "def logistic_function(x,threshold,std):\n",
        "  probability = 1/(1+math.exp(-(x-threshold)/std))\n",
        "  return probability\n",
        " \n",
        "def load_wav(file_path, sampling_rate = 44100):\n",
        "  file_name = os.path.basename(file_path)\n",
        "  samples, sampling_rate = librosa.load(file_path,sr=sampling_rate,  duration = 600)\n",
        "  duration = len(samples)/sampling_rate\n",
        "  return(samples, sampling_rate, duration)\n",
        "\n",
        "def filt(samples, sampling_rate=44100, low_thresh=400, upp_thresh=5000): \n",
        "  yf = rfft(samples)\n",
        "  xf = rfftfreq(len(samples), 1 / sampling_rate)\n",
        "  points_per_freq = len(xf) / (sampling_rate / 2)\n",
        "\n",
        "  target_idx_noise_lower = int(points_per_freq * low_thresh)\n",
        "  target_idx_noise_upper = int(points_per_freq * upp_thresh)\n",
        "  yf[: target_idx_noise_lower] = 0\n",
        "  yf[target_idx_noise_upper:] = 0\n",
        "  filt_signal = irfft(yf)\n",
        "  return filt_signal\n",
        "\n",
        "def norm_envelope(samples, sampling_rate=44100, win_length=2048, win_step=1024):\n",
        "  y = np.pad(samples, win_length, mode=\"constant\")\n",
        "    # Pads (window length) to the sequence: -->windows around sample of length 1024*5 (samples)\n",
        "  x = librosa.util.frame(y, win_length, win_step) # step-size 512\n",
        "  sm_env = np.sqrt(np.mean(np.abs(x)**2, axis=-2, keepdims=True))\n",
        "  z_env = z_score(sm_env)\n",
        "  \n",
        "  frames = np.arange(z_env.shape[1])\n",
        "  frames_dist=(np.array(frames) * win_step).astype(int)\n",
        "  times=np.array(frames_dist) / float(sampling_rate)\n",
        "  return sm_env, z_env, times\n",
        "\n",
        "\n",
        "def state_probability(z_env):\n",
        "\n",
        "  vectorized_logistics = np.vectorize(logistic_function)\n",
        "  std_normalized = np.std(z_env)\n",
        "  #data points with z_score>3 categorized into yes call state\n",
        "  probability_each_point = vectorized_logistics(z_env, 0.02, std_normalized)\n",
        "\n",
        "  return probability_each_point"
      ],
      "metadata": {
        "id": "SWCW5KELKz8e"
      },
      "execution_count": 6,
      "outputs": []
    },
    {
      "cell_type": "code",
      "source": [
        "from google.colab import drive\n",
        "drive.mount('/content/drive')"
      ],
      "metadata": {
        "colab": {
          "base_uri": "https://localhost:8080/"
        },
        "id": "2JP35tOSLPNj",
        "outputId": "ffc717d5-0b34-477d-ffe5-3f5709e82f1f"
      },
      "execution_count": 1,
      "outputs": [
        {
          "output_type": "stream",
          "name": "stdout",
          "text": [
            "Mounted at /content/drive\n"
          ]
        }
      ]
    },
    {
      "cell_type": "markdown",
      "source": [
        "#####testing to ensure the function works"
      ],
      "metadata": {
        "id": "dWs-9YBoN_YQ"
      }
    },
    {
      "cell_type": "code",
      "source": [
        "#file_path='/content/drive/MyDrive/Recordings_for_IPI/Laevis_01-F818D-F8387-220616_0456_8min_selection.wav'\n",
        "#file_path='/content/drive/MyDrive/Recordings_for_IPI/Vic_01-AD815-AD7EE-220629_0025_8_min.wav'\n",
        "#file_path='/content/drive/MyDrive/Recordings_for_IPI/Petersii_02-F820D-F8239-220630_2215_6_min.wav'\n",
        "#file_path='/content/drive/MyDrive/Recordings_for_IPI/Poweri_02-AD812-AD810-220713_1913_8_min.wav'\n",
        "file_path='/content/drive/MyDrive/Xenopus_male_female_data/overall_copy/laevis/F818D-F8387/duets/chunks/rapping/01-F818D-F8387-220615_1834_1'"
      ],
      "metadata": {
        "id": "6hcU3dh1MghH"
      },
      "execution_count": 4,
      "outputs": []
    },
    {
      "cell_type": "code",
      "source": [
        "samples, sampling_rate, duration =load_wav(file_path)\n",
        "x_time = np.arange(0,duration,1/sampling_rate)\n",
        "## Time loading"
      ],
      "metadata": {
        "id": "r9F1C8YSMmur"
      },
      "execution_count": 7,
      "outputs": []
    },
    {
      "cell_type": "code",
      "source": [
        "sample_filt=filt(samples)"
      ],
      "metadata": {
        "id": "JvVFA9kQqdn8"
      },
      "execution_count": 8,
      "outputs": []
    },
    {
      "cell_type": "code",
      "source": [
        "sm_env, z_env, times = norm_envelope(sample_filt, sampling_rate, win_length=1024*5, win_step=1024)\n",
        "figure,ax1 = plt.subplots()\n",
        "figure.set_size_inches(20,5)\n",
        "#ax1.plot(times,sm_env[0],color='red')\n",
        "ax1.plot(times,z_env[0],color='red')\n",
        "#ax1.plot(x_time,samples,color='blue')\n",
        "ax1.set_xlabel(\"Time (s)\")\n",
        "ax1.set_ylabel(\"Amplitude\")\n",
        "#ax1.set_xlim(120,150)\n",
        "#ax1.set_ylim(0,1)"
      ],
      "metadata": {
        "colab": {
          "base_uri": "https://localhost:8080/",
          "height": 295
        },
        "id": "rGgO0QwthSvO",
        "outputId": "a0d4384f-aab9-4a5f-808b-697b4a516e0e"
      },
      "execution_count": 9,
      "outputs": [
        {
          "output_type": "execute_result",
          "data": {
            "text/plain": [
              "Text(0, 0.5, 'Amplitude')"
            ]
          },
          "metadata": {},
          "execution_count": 9
        },
        {
          "output_type": "display_data",
          "data": {
            "text/plain": [
              "<Figure size 1440x360 with 1 Axes>"
            ],
            "image/png": "[encoded data removed]"
          },
          "metadata": {
            "needs_background": "light"
          }
        }
      ]
    },
    {
      "cell_type": "code",
      "source": [
        "np.std(sm_env[0])"
      ],
      "metadata": {
        "colab": {
          "base_uri": "https://localhost:8080/"
        },
        "id": "glOoUm7wrmxh",
        "outputId": "04896979-a733-4cd5-bcb4-f70accb4f8c1"
      },
      "execution_count": 10,
      "outputs": [
        {
          "output_type": "execute_result",
          "data": {
            "text/plain": [
              "0.00010892494"
            ]
          },
          "metadata": {},
          "execution_count": 10
        }
      ]
    },
    {
      "cell_type": "code",
      "source": [
        "probability_each_point = state_probability(z_env)"
      ],
      "metadata": {
        "id": "AyYEa8M-hSx-"
      },
      "execution_count": 11,
      "outputs": []
    },
    {
      "cell_type": "code",
      "source": [
        "figure,ax1 = plt.subplots()\n",
        "figure.set_size_inches(20,5)\n",
        "ax1.plot(times,probability_each_point[0],color='red')\n",
        "ax1.set_xlabel(\"Time (s)\")\n",
        "ax1.set_ylabel(\"Probability\")\n",
        "#ax1.set_xlim(110,170)"
      ],
      "metadata": {
        "colab": {
          "base_uri": "https://localhost:8080/",
          "height": 295
        },
        "id": "WuM5j4CihS0b",
        "outputId": "fc81eade-9093-47f5-fb17-999f8c25b7aa"
      },
      "execution_count": 14,
      "outputs": [
        {
          "output_type": "execute_result",
          "data": {
            "text/plain": [
              "Text(0, 0.5, 'Probability')"
            ]
          },
          "metadata": {},
          "execution_count": 14
        },
        {
          "output_type": "display_data",
          "data": {
            "text/plain": [
              "<Figure size 1440x360 with 1 Axes>"
            ],
            "image/png": "[encoded data removed]"
          },
          "metadata": {
            "needs_background": "light"
          }
        }
      ]
    },
    {
      "cell_type": "code",
      "source": [
        "plt.figure(figsize=(20,5))\n",
        "plt.plot(x_time, samples)\n",
        "#plt.xlim(110,170)"
      ],
      "metadata": {
        "colab": {
          "base_uri": "https://localhost:8080/",
          "height": 283
        },
        "id": "KfC88HybldtZ",
        "outputId": "ca7c6cf0-eb63-42ba-ad1b-b29b0e3893f0"
      },
      "execution_count": 16,
      "outputs": [
        {
          "output_type": "execute_result",
          "data": {
            "text/plain": [
              "[<matplotlib.lines.Line2D at 0x7fe2c7e37410>]"
            ]
          },
          "metadata": {},
          "execution_count": 16
        },
        {
          "output_type": "display_data",
          "data": {
            "text/plain": [
              "<Figure size 1440x360 with 1 Axes>"
            ],
            "image/png": "[encoded data removed]"
          },
          "metadata": {
            "needs_background": "light"
          }
        }
      ]
    },
    {
      "cell_type": "code",
      "source": [
        "def prob_generate(probability_each_point):\n",
        "  yes_call_prob = probability_each_point\n",
        "  no_call_prob = [1-i for i in yes_call_prob]\n",
        "  prob = np.row_stack((yes_call_prob,no_call_prob))\n",
        "  return prob"
      ],
      "metadata": {
        "id": "YDDWp1kOnZuv"
      },
      "execution_count": 17,
      "outputs": []
    },
    {
      "cell_type": "code",
      "source": [
        "prob = prob_generate(probability_each_point)"
      ],
      "metadata": {
        "id": "iuVwrBeqnZxf"
      },
      "execution_count": 18,
      "outputs": []
    },
    {
      "cell_type": "code",
      "source": [
        "#assumption that the transition between states is less likely compared to within states\n",
        "yes_to_no = 0.4\n",
        "no_to_yes = yes_to_no\n",
        "transition_matrix = np.row_stack(([1-yes_to_no,yes_to_no],[no_to_yes,1-no_to_yes]))"
      ],
      "metadata": {
        "id": "LlHLJ5x6nZ0b"
      },
      "execution_count": 19,
      "outputs": []
    },
    {
      "cell_type": "code",
      "source": [
        "yes_init = 0.1\n",
        "p_init = np.array([0.5,0.5])"
      ],
      "metadata": {
        "id": "FsJzLYvenZ3D"
      },
      "execution_count": 20,
      "outputs": []
    },
    {
      "cell_type": "code",
      "source": [
        "states = librosa.sequence.viterbi_discriminative(prob,transition_matrix, p_init=p_init)\n",
        "states"
      ],
      "metadata": {
        "id": "blLPuvuFnrwr",
        "colab": {
          "base_uri": "https://localhost:8080/"
        },
        "outputId": "0b87e444-53e7-4d47-a431-1fa225ad14d9"
      },
      "execution_count": 21,
      "outputs": [
        {
          "output_type": "execute_result",
          "data": {
            "text/plain": [
              "array([1, 1, 1, ..., 1, 1, 1])"
            ]
          },
          "metadata": {},
          "execution_count": 21
        }
      ]
    },
    {
      "cell_type": "code",
      "source": [
        "figure,ax1 = plt.subplots()\n",
        "figure.set_size_inches(20,5)\n",
        "ax1.plot(x_time,samples,color='blue')\n",
        "ax1.set_xlabel(\"Time (s)\")\n",
        "ax1.set_ylabel(\"Amplitude\")\n",
        "\n",
        "ax2 = ax1.twinx()\n",
        "ax2.plot(times,states,color='red')\n",
        "ax2.set_ylim(-0.05,1.1)\n",
        "#plt.xlim(110,170)\n",
        "plt.show()"
      ],
      "metadata": {
        "colab": {
          "base_uri": "https://localhost:8080/",
          "height": 269
        },
        "id": "TMOVVtCknrt-",
        "outputId": "85341398-7df6-4742-d566-3133834f8a3f"
      },
      "execution_count": 23,
      "outputs": [
        {
          "output_type": "display_data",
          "data": {
            "text/plain": [
              "<Figure size 1440x360 with 2 Axes>"
            ],
            "image/png": "[encoded data removed]"
          },
          "metadata": {
            "needs_background": "light"
          }
        }
      ]
    },
    {
      "cell_type": "code",
      "source": [
        "# rle:\n",
        "000000\n",
        "111\n",
        "3\n",
        "\n",
        "#states\n",
        "# Rle (compression)**\n",
        "# np.diff (0-->0=>0, search for any non-zero and find index)\n",
        "startsec=[0, 20]\n",
        "endsec=[19, 30]\n",
        "import pandas as pd\n",
        "pd.DataFrame({'start': startsec, 'end': endsec, 'call':[True, False]})\n",
        "# soundfile.write_wav(wave_filename.split('.wav')+'_start'+startsec+'_end')\n",
        "\n",
        "pd.to_csv(wave_filename.split('.wav')+'.csv')\n",
        "\n",
        "x =0\n",
        "librosa.load(wave_file, start=startsec[x], duration=endsec[x]-startsec[x])\n"
      ],
      "metadata": {
        "colab": {
          "base_uri": "https://localhost:8080/",
          "height": 112
        },
        "id": "z5DGo_Ckxlmp",
        "outputId": "5bd21531-5866-442f-81a8-cb3b5a34d113"
      },
      "execution_count": null,
      "outputs": [
        {
          "output_type": "execute_result",
          "data": {
            "text/plain": [
              "   start  end   call\n",
              "0      0   19   True\n",
              "1     20   30  False"
            ],
            "text/html": [
              "\n",
              "  <div id=\"df-fb9489ea-48fc-4351-a5a9-0b0cd0da2f5c\">\n",
              "    <div class=\"colab-df-container\">\n",
              "      <div>\n",
              "<style scoped>\n",
              "    .dataframe tbody tr th:only-of-type {\n",
              "        vertical-align: middle;\n",
              "    }\n",
              "\n",
              "    .dataframe tbody tr th {\n",
              "        vertical-align: top;\n",
              "    }\n",
              "\n",
              "    .dataframe thead th {\n",
              "        text-align: right;\n",
              "    }\n",
              "</style>\n",
              "<table border=\"1\" class=\"dataframe\">\n",
              "  <thead>\n",
              "    <tr style=\"text-align: right;\">\n",
              "      <th></th>\n",
              "      <th>start</th>\n",
              "      <th>end</th>\n",
              "      <th>call</th>\n",
              "    </tr>\n",
              "  </thead>\n",
              "  <tbody>\n",
              "    <tr>\n",
              "      <th>0</th>\n",
              "      <td>0</td>\n",
              "      <td>19</td>\n",
              "      <td>True</td>\n",
              "    </tr>\n",
              "    <tr>\n",
              "      <th>1</th>\n",
              "      <td>20</td>\n",
              "      <td>30</td>\n",
              "      <td>False</td>\n",
              "    </tr>\n",
              "  </tbody>\n",
              "</table>\n",
              "</div>\n",
              "      <button class=\"colab-df-convert\" onclick=\"convertToInteractive('df-fb9489ea-48fc-4351-a5a9-0b0cd0da2f5c')\"\n",
              "              title=\"Convert this dataframe to an interactive table.\"\n",
              "              style=\"display:none;\">\n",
              "        \n",
              "  <svg xmlns=\"http://www.w3.org/2000/svg\" height=\"24px\"viewBox=\"0 0 24 24\"\n",
              "       width=\"24px\">\n",
              "    <path d=\"M0 0h24v24H0V0z\" fill=\"none\"/>\n",
              "    <path d=\"M18.56 5.44l.94 2.06.94-2.06 2.06-.94-2.06-.94-.94-2.06-.94 2.06-2.06.94zm-11 1L8.5 8.5l.94-2.06 2.06-.94-2.06-.94L8.5 2.5l-.94 2.06-2.06.94zm10 10l.94 2.06.94-2.06 2.06-.94-2.06-.94-.94-2.06-.94 2.06-2.06.94z\"/><path d=\"M17.41 7.96l-1.37-1.37c-.4-.4-.92-.59-1.43-.59-.52 0-1.04.2-1.43.59L10.3 9.45l-7.72 7.72c-.78.78-.78 2.05 0 2.83L4 21.41c.39.39.9.59 1.41.59.51 0 1.02-.2 1.41-.59l7.78-7.78 2.81-2.81c.8-.78.8-2.07 0-2.86zM5.41 20L4 18.59l7.72-7.72 1.47 1.35L5.41 20z\"/>\n",
              "  </svg>\n",
              "      </button>\n",
              "      \n",
              "  <style>\n",
              "    .colab-df-container {\n",
              "      display:flex;\n",
              "      flex-wrap:wrap;\n",
              "      gap: 12px;\n",
              "    }\n",
              "\n",
              "    .colab-df-convert {\n",
              "      background-color: #E8F0FE;\n",
              "      border: none;\n",
              "      border-radius: 50%;\n",
              "      cursor: pointer;\n",
              "      display: none;\n",
              "      fill: #1967D2;\n",
              "      height: 32px;\n",
              "      padding: 0 0 0 0;\n",
              "      width: 32px;\n",
              "    }\n",
              "\n",
              "    .colab-df-convert:hover {\n",
              "      background-color: #E2EBFA;\n",
              "      box-shadow: 0px 1px 2px rgba(60, 64, 67, 0.3), 0px 1px 3px 1px rgba(60, 64, 67, 0.15);\n",
              "      fill: #174EA6;\n",
              "    }\n",
              "\n",
              "    [theme=dark] .colab-df-convert {\n",
              "      background-color: #3B4455;\n",
              "      fill: #D2E3FC;\n",
              "    }\n",
              "\n",
              "    [theme=dark] .colab-df-convert:hover {\n",
              "      background-color: #434B5C;\n",
              "      box-shadow: 0px 1px 3px 1px rgba(0, 0, 0, 0.15);\n",
              "      filter: drop-shadow(0px 1px 2px rgba(0, 0, 0, 0.3));\n",
              "      fill: #FFFFFF;\n",
              "    }\n",
              "  </style>\n",
              "\n",
              "      <script>\n",
              "        const buttonEl =\n",
              "          document.querySelector('#df-fb9489ea-48fc-4351-a5a9-0b0cd0da2f5c button.colab-df-convert');\n",
              "        buttonEl.style.display =\n",
              "          google.colab.kernel.accessAllowed ? 'block' : 'none';\n",
              "\n",
              "        async function convertToInteractive(key) {\n",
              "          const element = document.querySelector('#df-fb9489ea-48fc-4351-a5a9-0b0cd0da2f5c');\n",
              "          const dataTable =\n",
              "            await google.colab.kernel.invokeFunction('convertToInteractive',\n",
              "                                                     [key], {});\n",
              "          if (!dataTable) return;\n",
              "\n",
              "          const docLinkHtml = 'Like what you see? Visit the ' +\n",
              "            '<a target=\"_blank\" href=https://colab.research.google.com/notebooks/data_table.ipynb>data table notebook</a>'\n",
              "            + ' to learn more about interactive tables.';\n",
              "          element.innerHTML = '';\n",
              "          dataTable['output_type'] = 'display_data';\n",
              "          await google.colab.output.renderOutput(dataTable, element);\n",
              "          const docLink = document.createElement('div');\n",
              "          docLink.innerHTML = docLinkHtml;\n",
              "          element.appendChild(docLink);\n",
              "        }\n",
              "      </script>\n",
              "    </div>\n",
              "  </div>\n",
              "  "
            ]
          },
          "metadata": {},
          "execution_count": 261
        }
      ]
    },
    {
      "cell_type": "markdown",
      "source": [
        "Parameter 1: prob"
      ],
      "metadata": {
        "id": "GIwR5KMRvgxx"
      }
    },
    {
      "cell_type": "code",
      "source": [
        "def prob_generate(probability_each_point):\n",
        "  yes_call_prob = probability_each_point\n",
        "  no_call_prob = [1-i for i in yes_call_prob]\n",
        "  prob = np.row_stack((yes_call_prob,no_call_prob))\n",
        "  return prob"
      ],
      "metadata": {
        "id": "vWWck-ChOpwZ"
      },
      "execution_count": null,
      "outputs": []
    },
    {
      "cell_type": "code",
      "source": [
        "prob = prob_generate(probability_each_point)"
      ],
      "metadata": {
        "id": "VlCyEbEEPRfN"
      },
      "execution_count": null,
      "outputs": []
    },
    {
      "cell_type": "code",
      "source": [
        "np.array(prob).shape"
      ],
      "metadata": {
        "colab": {
          "base_uri": "https://localhost:8080/"
        },
        "id": "_9veP-IhPvVi",
        "outputId": "4a8b63b4-d8e8-4088-9d7b-41ed7760b3fe"
      },
      "execution_count": null,
      "outputs": [
        {
          "output_type": "execute_result",
          "data": {
            "text/plain": [
              "(2, 20896891)"
            ]
          },
          "metadata": {},
          "execution_count": 9
        }
      ]
    },
    {
      "cell_type": "markdown",
      "source": [
        "Parameter 2: transition matrix (2*2)"
      ],
      "metadata": {
        "id": "whd0HPX8vkjY"
      }
    },
    {
      "cell_type": "code",
      "source": [
        "#assumption that the transition between states is less likely compared to within states\n",
        "yes_to_no = 0.1\n",
        "no_to_yes = yes_to_no\n",
        "transition_matrix = np.row_stack(([1-yes_to_no,yes_to_no],[no_to_yes,1-no_to_yes]))"
      ],
      "metadata": {
        "id": "MPHt1o9ZpuE_"
      },
      "execution_count": null,
      "outputs": []
    },
    {
      "cell_type": "code",
      "source": [
        "transition_matrix"
      ],
      "metadata": {
        "colab": {
          "base_uri": "https://localhost:8080/"
        },
        "id": "93Zqxkmyqup_",
        "outputId": "9d2d5a0a-d52e-46e5-e0ed-93dd1685536d"
      },
      "execution_count": null,
      "outputs": [
        {
          "output_type": "execute_result",
          "data": {
            "text/plain": [
              "array([[0.9, 0.1],\n",
              "       [0.1, 0.9]])"
            ]
          },
          "metadata": {},
          "execution_count": 11
        }
      ]
    },
    {
      "cell_type": "markdown",
      "source": [
        "Parameter 3: p_init"
      ],
      "metadata": {
        "id": "8ZBMYgUWvsgJ"
      }
    },
    {
      "cell_type": "code",
      "source": [
        "yes_init = 0.1\n",
        "p_init = np.array([0.3,0.7])"
      ],
      "metadata": {
        "id": "ZiajZ8nqq-aw"
      },
      "execution_count": null,
      "outputs": []
    },
    {
      "cell_type": "code",
      "source": [
        "p_init"
      ],
      "metadata": {
        "colab": {
          "base_uri": "https://localhost:8080/"
        },
        "id": "xVr0e8Eqtj7r",
        "outputId": "d14dfe43-b187-4d33-babd-7f14e6e2d39a"
      },
      "execution_count": null,
      "outputs": [
        {
          "output_type": "execute_result",
          "data": {
            "text/plain": [
              "array([0.3, 0.7])"
            ]
          },
          "metadata": {},
          "execution_count": 13
        }
      ]
    },
    {
      "cell_type": "markdown",
      "source": [
        "Run the viterbi_discrimative algorithm"
      ],
      "metadata": {
        "id": "mNE4l78kv0Rf"
      }
    },
    {
      "cell_type": "code",
      "execution_count": null,
      "metadata": {
        "id": "2Fr_8kqVJ8YX"
      },
      "outputs": [],
      "source": [
        "states = librosa.sequence.viterbi_discriminative(prob,transition_matrix,p_init=p_init)"
      ]
    },
    {
      "cell_type": "code",
      "source": [
        "figure,ax1 = plt.subplots()\n",
        "figure.set_size_inches(20,5)\n",
        "ax1.plot(x_time,samples,color='blue')\n",
        "ax1.set_xlabel(\"Time (s)\")\n",
        "ax1.set_ylabel(\"Amplitude\")\n",
        "\n",
        "ax2 = ax1.twinx()\n",
        "ax2.plot(x_time,states,color='grey')\n",
        "ax2.set_ylim(0,5)\n",
        "ax2.set_xlim(200,203)\n",
        "plt.show()"
      ],
      "metadata": {
        "colab": {
          "base_uri": "https://localhost:8080/",
          "height": 338
        },
        "id": "haLDJ--vwpPC",
        "outputId": "df9b5f69-1a5e-4050-812f-96a5a4926871"
      },
      "execution_count": null,
      "outputs": [
        {
          "output_type": "display_data",
          "data": {
            "text/plain": [
              "<Figure size 1440x360 with 2 Axes>"
            ],
            "image/png": "[encoded data removed]"
          },
          "metadata": {
            "needs_background": "light"
          }
        }
      ]
    }
  ]
}