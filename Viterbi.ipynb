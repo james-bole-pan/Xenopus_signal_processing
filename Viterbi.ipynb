{
  "nbformat": 4,
  "nbformat_minor": 0,
  "metadata": {
    "colab": {
      "name": "Viterbi.ipynb",
      "provenance": [],
      "collapsed_sections": [],
      "machine_shape": "hm",
      "include_colab_link": true
    },
    "kernelspec": {
      "name": "python3",
      "display_name": "Python 3"
    },
    "language_info": {
      "name": "python"
    },
    "accelerator": "GPU",
    "gpuClass": "standard"
  },
  "cells": [
    {
      "cell_type": "markdown",
      "metadata": {
        "id": "view-in-github",
        "colab_type": "text"
      },
      "source": [
        "<a href=\"https://colab.research.google.com/github/jamespan1118/Xenopus_signal_processing/blob/main/Viterbi.ipynb\" target=\"_parent\"><img src=\"https://colab.research.google.com/assets/colab-badge.svg\" alt=\"Open In Colab\"/></a>"
      ]
    },
    {
      "cell_type": "markdown",
      "source": [
        "###Objective: Create segments that contains bouts of calling"
      ],
      "metadata": {
        "id": "PPQreQ_-KGJa"
      }
    },
    {
      "cell_type": "code",
      "source": [
        "import librosa\n",
        "import os\n",
        "from librosa import display\n",
        "import scipy\n",
        "import numpy as np\n",
        "from matplotlib import pyplot as plt\n",
        "import math\n",
        "from librosa.core.convert import samples_like\n",
        "from scipy import fftpack, signal\n",
        "from scipy.io.wavfile import write\n",
        "from scipy.fft import fft, fftfreq, rfft, rfftfreq, irfft"
      ],
      "metadata": {
        "id": "saXrNQGWKEW-"
      },
      "execution_count": 2,
      "outputs": []
    },
    {
      "cell_type": "code",
      "source": [
        "from google.colab import drive\n",
        "drive.mount('/content/drive')"
      ],
      "metadata": {
        "colab": {
          "base_uri": "https://localhost:8080/"
        },
        "id": "p5EzKUScIWyJ",
        "outputId": "c6f9699e-6ce1-45c0-9efa-0daf8d9f73dd"
      },
      "execution_count": 2,
      "outputs": [
        {
          "output_type": "stream",
          "name": "stdout",
          "text": [
            "Drive already mounted at /content/drive; to attempt to forcibly remount, call drive.mount(\"/content/drive\", force_remount=True).\n"
          ]
        }
      ]
    },
    {
      "cell_type": "markdown",
      "source": [
        "###Step 1: Calculate the probability of call state given amplitude\n",
        "Original code can be found in the notebook Minimum_threshold.ipynb"
      ],
      "metadata": {
        "id": "sj9lFLkoKizo"
      }
    },
    {
      "cell_type": "code",
      "source": [
        "def filt(samples, sampling_rate=44100, low_thresh=350, upp_thresh=5000): \n",
        "  yf = rfft(samples)\n",
        "  xf = rfftfreq(len(samples), 1 / sampling_rate)\n",
        "  points_per_freq = len(xf) / (sampling_rate / 2)\n",
        "\n",
        "  target_idx_noise_lower = int(points_per_freq * low_thresh)\n",
        "  target_idx_noise_upper = int(points_per_freq * upp_thresh)\n",
        "  yf[: target_idx_noise_lower] = 0\n",
        "  yf[target_idx_noise_upper:] = 0\n",
        "  filt_signal = irfft(yf)\n",
        "  return filt_signal\n",
        "\n",
        "def z_score(data,average,std):\n",
        "  error = math.exp(-10000)\n",
        "  z = (data-average)/(std+error)\n",
        "  return z\n",
        "\n",
        "def logistic_function(x,threshold,std):\n",
        "  probability = 1/(1+math.exp(-(x-threshold)))\n",
        "  return probability\n",
        " \n",
        "def state_probability(file_path):\n",
        "  file_name = os.path.basename(file_path)\n",
        "  sampling_rate = 44100\n",
        "  samples, sampling_rate = librosa.load(file_path,sr=sampling_rate)\n",
        "\n",
        "  filtered_sig = filt(samples)\n",
        "\n",
        "  hilbert_signal = abs(scipy.signal.hilbert(filtered_sig))\n",
        "  #hilbert_signal = scipy.ndimage.filters.gaussian_filter1d(hilbert_signal,sigma=5)\n",
        "\n",
        "  #get statistics for the amplitudes\n",
        "  mean_amplitude = np.mean(hilbert_signal)\n",
        "  stdev = np.std(hilbert_signal)\n",
        "\n",
        "  normalized_signal = z_score(hilbert_signal,mean_amplitude,stdev)\n",
        "\n",
        "  std_normalized = np.std(normalized_signal)\n",
        "\n",
        "  vectorized_logistics = np.vectorize(logistic_function)\n",
        "\n",
        "  #data points with z_score>3 categorized into yes call state\n",
        "  probability_each_point = vectorized_logistics(normalized_signal,3,std_normalized)\n",
        "\n",
        "  return probability_each_point"
      ],
      "metadata": {
        "id": "SWCW5KELKz8e"
      },
      "execution_count": 6,
      "outputs": []
    },
    {
      "cell_type": "markdown",
      "source": [
        "#####testing to ensure the function works"
      ],
      "metadata": {
        "id": "dWs-9YBoN_YQ"
      }
    },
    {
      "cell_type": "code",
      "source": [
        "file_path='/content/drive/MyDrive/Xenopus_male_female_data/overall_copy/laevis/F818D-F8387/duets/chunks/rapping/01-F818D-F8387-220615_1834_1'"
      ],
      "metadata": {
        "id": "6hcU3dh1MghH"
      },
      "execution_count": 4,
      "outputs": []
    },
    {
      "cell_type": "code",
      "source": [
        "sampling_rate = 44100\n",
        "samples,sr = librosa.load(file_path,sr=sampling_rate)"
      ],
      "metadata": {
        "id": "oGNIdC1oLkGN"
      },
      "execution_count": 8,
      "outputs": []
    },
    {
      "cell_type": "code",
      "source": [
        "display.waveplot(samples,sr=sampling_rate,x_axis='time')\n",
        "plt.show()"
      ],
      "metadata": {
        "colab": {
          "base_uri": "https://localhost:8080/",
          "height": 279
        },
        "id": "sqP0RS3OL9l4",
        "outputId": "5ea44400-05da-48b2-89bd-80607e9aea3d"
      },
      "execution_count": 9,
      "outputs": [
        {
          "output_type": "display_data",
          "data": {
            "text/plain": [
              "<Figure size 432x288 with 1 Axes>"
            ],
            "image/png": "[encoded data removed]"
          },
          "metadata": {
            "needs_background": "light"
          }
        }
      ]
    },
    {
      "cell_type": "code",
      "source": [
        "probability_each_point = state_probability(file_path)"
      ],
      "metadata": {
        "id": "oV_J-Vcb6uE3"
      },
      "execution_count": 10,
      "outputs": []
    },
    {
      "cell_type": "code",
      "source": [
        "#time vector\n",
        "duration = len(samples)/sampling_rate\n",
        "x_time = np.arange(0,duration,1/sampling_rate)"
      ],
      "metadata": {
        "id": "3u02HDx6NP8c"
      },
      "execution_count": 11,
      "outputs": []
    },
    {
      "cell_type": "code",
      "source": [
        "#plot true signal and probability likelihood\n",
        "figure,ax1 = plt.subplots()\n",
        "figure.set_size_inches(20,5)\n",
        "ax1.plot(x_time[::1000],samples[::1000],color='blue')\n",
        "ax1.set_xlabel(\"Time (s)\")\n",
        "ax1.set_ylabel(\"Amplitude\")\n",
        "\n",
        "ax2 = ax1.twinx()\n",
        "ax2.plot(x_time[::1000],probability_each_point[::1000],color='grey')\n",
        "ax2.set_ylabel(\"Probability\")\n",
        "ax2.set_ylim(0,5)\n",
        "\n",
        "#ax2.set_xlim(510,550)\n",
        "plt.show()"
      ],
      "metadata": {
        "colab": {
          "base_uri": "https://localhost:8080/",
          "height": 284
        },
        "id": "i8vzyhHmNscw",
        "outputId": "fd995574-2126-4821-b5d6-4fd99c958371"
      },
      "execution_count": 13,
      "outputs": [
        {
          "output_type": "display_data",
          "data": {
            "text/plain": [
              "<Figure size 1440x360 with 2 Axes>"
            ],
            "image/png": "[encoded data removed]"
          },
          "metadata": {
            "needs_background": "light"
          }
        }
      ]
    },
    {
      "cell_type": "markdown",
      "source": [
        "###Step 2: Setting the parameters and run Viterbi_discriminative"
      ],
      "metadata": {
        "id": "r8EIFJdIOZ8A"
      }
    },
    {
      "cell_type": "markdown",
      "source": [
        "Parameter 1: prob"
      ],
      "metadata": {
        "id": "GIwR5KMRvgxx"
      }
    },
    {
      "cell_type": "code",
      "source": [
        "def prob_generate(probability_each_point):\n",
        "  yes_call_prob = probability_each_point\n",
        "  no_call_prob = [1-i for i in yes_call_prob]\n",
        "  prob = np.row_stack((yes_call_prob,no_call_prob))\n",
        "  return prob"
      ],
      "metadata": {
        "id": "vWWck-ChOpwZ"
      },
      "execution_count": 14,
      "outputs": []
    },
    {
      "cell_type": "code",
      "source": [
        "prob = prob_generate(probability_each_point)"
      ],
      "metadata": {
        "id": "VlCyEbEEPRfN"
      },
      "execution_count": 15,
      "outputs": []
    },
    {
      "cell_type": "code",
      "source": [
        "np.array(prob).shape"
      ],
      "metadata": {
        "colab": {
          "base_uri": "https://localhost:8080/"
        },
        "id": "_9veP-IhPvVi",
        "outputId": "fa55c490-5ee9-437d-bf56-8c820f72eb4b"
      },
      "execution_count": 16,
      "outputs": [
        {
          "output_type": "execute_result",
          "data": {
            "text/plain": [
              "(2, 158760000)"
            ]
          },
          "metadata": {},
          "execution_count": 16
        }
      ]
    },
    {
      "cell_type": "markdown",
      "source": [
        "Parameter 2: transition matrix (2*2)"
      ],
      "metadata": {
        "id": "whd0HPX8vkjY"
      }
    },
    {
      "cell_type": "code",
      "source": [
        "#assumption that the transition between states is less likely compared to within states\n",
        "yes_to_no = 0.1\n",
        "no_to_yes = yes_to_no\n",
        "transition_matrix = np.row_stack(([1-yes_to_no,yes_to_no],[no_to_yes,1-no_to_yes]))"
      ],
      "metadata": {
        "id": "MPHt1o9ZpuE_"
      },
      "execution_count": 17,
      "outputs": []
    },
    {
      "cell_type": "code",
      "source": [
        "transition_matrix"
      ],
      "metadata": {
        "colab": {
          "base_uri": "https://localhost:8080/"
        },
        "id": "93Zqxkmyqup_",
        "outputId": "d6d0f422-7441-456c-f6d1-dfa0607a2256"
      },
      "execution_count": 18,
      "outputs": [
        {
          "output_type": "execute_result",
          "data": {
            "text/plain": [
              "array([[0.9, 0.1],\n",
              "       [0.1, 0.9]])"
            ]
          },
          "metadata": {},
          "execution_count": 18
        }
      ]
    },
    {
      "cell_type": "markdown",
      "source": [
        "Parameter 3: p_init"
      ],
      "metadata": {
        "id": "8ZBMYgUWvsgJ"
      }
    },
    {
      "cell_type": "code",
      "source": [
        "yes_init = 0.1\n",
        "p_init = np.array([yes_init,1-yes_init])"
      ],
      "metadata": {
        "id": "ZiajZ8nqq-aw"
      },
      "execution_count": 19,
      "outputs": []
    },
    {
      "cell_type": "code",
      "source": [
        "p_init"
      ],
      "metadata": {
        "colab": {
          "base_uri": "https://localhost:8080/"
        },
        "id": "xVr0e8Eqtj7r",
        "outputId": "325f6449-66e6-403c-9e56-26c96a4414d5"
      },
      "execution_count": 20,
      "outputs": [
        {
          "output_type": "execute_result",
          "data": {
            "text/plain": [
              "array([0.1, 0.9])"
            ]
          },
          "metadata": {},
          "execution_count": 20
        }
      ]
    },
    {
      "cell_type": "markdown",
      "source": [
        "Run the viterbi_discrimative algorithm"
      ],
      "metadata": {
        "id": "mNE4l78kv0Rf"
      }
    },
    {
      "cell_type": "code",
      "execution_count": 21,
      "metadata": {
        "id": "2Fr_8kqVJ8YX"
      },
      "outputs": [],
      "source": [
        "states = librosa.sequence.viterbi_discriminative(prob,transition_matrix,p_init=p_init)"
      ]
    },
    {
      "cell_type": "code",
      "source": [
        "figure,ax1 = plt.subplots()\n",
        "figure.set_size_inches(20,5)\n",
        "ax1.plot(x_time,samples,color='blue')\n",
        "ax1.set_xlabel(\"Time (s)\")\n",
        "ax1.set_ylabel(\"Amplitude\")\n",
        "\n",
        "ax2 = ax1.twinx()\n",
        "ax2.plot(x_time,states,color='grey')\n",
        "ax2.set_ylim(0,5)\n",
        "#ax2.set_xlim(200,203)\n",
        "plt.show()"
      ],
      "metadata": {
        "id": "haLDJ--vwpPC"
      },
      "execution_count": null,
      "outputs": []
    },
    {
      "cell_type": "code",
      "source": [
        ""
      ],
      "metadata": {
        "id": "Wh8z6jO2i1K-"
      },
      "execution_count": null,
      "outputs": []
    }
  ]
}