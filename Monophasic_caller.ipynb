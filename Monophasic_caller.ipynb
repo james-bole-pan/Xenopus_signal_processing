{
  "nbformat": 4,
  "nbformat_minor": 0,
  "metadata": {
    "colab": {
      "provenance": [],
      "mount_file_id": "14RzB7swJaQ7bFU4opse5f2BG8EXHfS_f",
      "authorship_tag": "ABX9TyNMFYiIfq2MQHYUvSUhrX0P",
      "include_colab_link": true
    },
    "kernelspec": {
      "name": "python3",
      "display_name": "Python 3"
    },
    "language_info": {
      "name": "python"
    }
  },
  "cells": [
    {
      "cell_type": "markdown",
      "metadata": {
        "id": "view-in-github",
        "colab_type": "text"
      },
      "source": [
        "<a href=\"https://colab.research.google.com/github/jamespan1118/Xenopus_signal_processing/blob/main/Monophasic_caller.ipynb\" target=\"_parent\"><img src=\"https://colab.research.google.com/assets/colab-badge.svg\" alt=\"Open In Colab\"/></a>"
      ]
    },
    {
      "cell_type": "code",
      "execution_count": 36,
      "metadata": {
        "id": "wkjq8gE658vE"
      },
      "outputs": [],
      "source": [
        "import os\n",
        "import pandas as pd\n",
        "import matplotlib.pyplot as plt\n",
        "import statistics"
      ]
    },
    {
      "cell_type": "code",
      "source": [
        "short_ratio = []\n",
        "long_ratio = []"
      ],
      "metadata": {
        "id": "d3qXPX6u6io4"
      },
      "execution_count": 21,
      "outputs": []
    },
    {
      "cell_type": "markdown",
      "source": [
        "###Poweri"
      ],
      "metadata": {
        "id": "YIdVDfS2CxEC"
      }
    },
    {
      "cell_type": "code",
      "source": [
        "path = '/content/drive/MyDrive/New_SURF_data/James_analyses_post_powerii/'\n",
        "\n",
        "less_than_one_IPI_counter = 0\n",
        "IPI_short_counter = 0\n",
        "IPI_long_counter = 0\n",
        "short_call, short_silence, long_call, long_silence = 0, 0, 0, 0\n",
        "\n",
        "for filename in os.listdir(path):\n",
        "  if filename.endswith('_femaleipi.csv') and filename.startswith('01'):\n",
        "    df = pd.read_csv(path+filename,index_col=0)\n",
        "    df['sec_diff_1'] = df['sec'].diff(periods=1)\n",
        "    df['sec_diff_2'] = df['sec'].diff(periods=-1)\n",
        "    for index, row in df.iterrows():\n",
        "      #check call type\n",
        "      if abs(row['sec_diff_1'])<1 or abs(row['sec_diff_2'])<1:\n",
        "        less_than_one_IPI_counter+=1\n",
        "        if abs(row['sec_diff_1'])<0.2 or abs(row['sec_diff_2'])<0.2:\n",
        "          IPI_short_counter+=1\n",
        "          if row['type'] == 'Call':\n",
        "            short_call +=1\n",
        "          else:\n",
        "            short_silence +=1\n",
        "        else:\n",
        "          IPI_long_counter+=1\n",
        "          if row['type'] == 'Call':\n",
        "            long_call +=1\n",
        "          else:\n",
        "            long_silence +=1\n",
        "        "
      ],
      "metadata": {
        "id": "gAE7gaGw8o1l"
      },
      "execution_count": 44,
      "outputs": []
    },
    {
      "cell_type": "code",
      "source": [
        "print(\n",
        "\"\"\"\n",
        "less_than_one_IPI_counter: {0}\n",
        "IPI_short_counter: {1}\n",
        "IPI_long_counter: {2}\n",
        "short_call: {3}\n",
        "short_silence: {4}\n",
        "long_call: {5}\n",
        "long_silence: {6}\n",
        "\"\"\".format(\n",
        "    less_than_one_IPI_counter,\n",
        "    IPI_short_counter,\n",
        "    IPI_long_counter,\n",
        "    short_call, short_silence, long_call, long_silence\n",
        ")\n",
        ")"
      ],
      "metadata": {
        "colab": {
          "base_uri": "https://localhost:8080/"
        },
        "id": "FGbaXL7H89NN",
        "outputId": "98bc9ce5-b9c0-46bf-d798-b04393a237e6"
      },
      "execution_count": 45,
      "outputs": [
        {
          "output_type": "stream",
          "name": "stdout",
          "text": [
            "\n",
            "less_than_one_IPI_counter: 28494\n",
            "IPI_short_counter: 8713\n",
            "IPI_long_counter: 19781\n",
            "short_call: 2268\n",
            "short_silence: 6445\n",
            "long_call: 2721\n",
            "long_silence: 17060\n",
            "\n"
          ]
        }
      ]
    },
    {
      "cell_type": "code",
      "source": [
        "short_ratio.append(short_call/IPI_short_counter)\n",
        "long_ratio.append(long_call/IPI_long_counter)\n",
        "\n",
        "print(short_ratio, long_ratio)"
      ],
      "metadata": {
        "colab": {
          "base_uri": "https://localhost:8080/"
        },
        "id": "Lm5SrwtA_6ap",
        "outputId": "3f0f6b6f-94c5-4163-9706-507ffa1f271b"
      },
      "execution_count": 28,
      "outputs": [
        {
          "output_type": "stream",
          "name": "stdout",
          "text": [
            "[0.2603007001032939, 0.05509573810994441, 0.2163471449185735] [0.13755624083716697, 0.016495620869378325, 0.21238041643218908]\n"
          ]
        }
      ]
    },
    {
      "cell_type": "code",
      "source": [
        "short_ratio = [0.2603007001032939, 0.2163471449185735] \n",
        "long_ratio = [0.13755624083716697, 0.21238041643218908]"
      ],
      "metadata": {
        "id": "1KLNXyeb_rpN"
      },
      "execution_count": 39,
      "outputs": []
    },
    {
      "cell_type": "code",
      "source": [
        "short_ratio_reverse = [1 - i for i in short_ratio]\n",
        "long_ratio_reverse = [1 - i for i in long_ratio]"
      ],
      "metadata": {
        "id": "gojy7f8x6qlU"
      },
      "execution_count": 40,
      "outputs": []
    },
    {
      "cell_type": "code",
      "source": [
        "labels = ['Short IPIs', 'Long IPIs']\n",
        "overlap = [statistics.mean(short_ratio), statistics.mean(long_ratio)]\n",
        "not_overlap = [statistics.mean(short_ratio_reverse), statistics.mean(long_ratio_reverse)]\n",
        "overlap_std = [statistics.stdev(short_ratio), statistics.stdev(long_ratio)]\n",
        "notoverlap_std = [statistics.stdev(short_ratio_reverse), statistics.stdev(long_ratio_reverse)]\n",
        "\n",
        "width = 0.35       # the width of the bars: can also be len(x) sequence\n",
        "\n",
        "fig, ax = plt.subplots()\n",
        "\n",
        "ax.bar(labels, not_overlap, width, yerr=notoverlap_std, label='Male is silent')\n",
        "ax.bar(labels, overlap, width, yerr=overlap_std, bottom=not_overlap,\n",
        "       label='Male is calling')\n",
        "\n",
        "ax.set_ylabel('Percentage')\n",
        "ax.set_title('Percentage of female calls happening during male call/silence')\n",
        "ax.legend()\n",
        "\n",
        "plt.show()"
      ],
      "metadata": {
        "colab": {
          "base_uri": "https://localhost:8080/",
          "height": 281
        },
        "id": "sBsDsMyeCKsp",
        "outputId": "ee431aab-b970-4a3b-8c0a-11015bafe622"
      },
      "execution_count": 46,
      "outputs": [
        {
          "output_type": "display_data",
          "data": {
            "text/plain": [
              "<Figure size 432x288 with 1 Axes>"
            ],
            "image/png": "[encoded data removed]"
          },
          "metadata": {
            "needs_background": "light"
          }
        }
      ]
    },
    {
      "cell_type": "markdown",
      "source": [
        "###Vic"
      ],
      "metadata": {
        "id": "N-v-eZUPCzCG"
      }
    },
    {
      "cell_type": "code",
      "source": [
        "path = '/content/drive/MyDrive/New_SURF_data/James_analyses_post_vict'\n",
        "short_ratio_vic = []\n",
        "long_ratio_vic = []"
      ],
      "metadata": {
        "id": "KnuWJEJ-CR4w"
      },
      "execution_count": 126,
      "outputs": []
    },
    {
      "cell_type": "code",
      "source": [
        "less_than_one_IPI_counter = 0\n",
        "IPI_short_counter = 0\n",
        "short_call, short_silence = 0, 0\n",
        "\n",
        "for filename in os.listdir(path):\n",
        "  if filename.endswith('_femaleipi.csv') and filename.startswith('01'):\n",
        "    df = pd.read_csv(path+'/'+filename,index_col=0)\n",
        "    df['sec_diff_1'] = df['sec'].diff(periods=1)\n",
        "    df['sec_diff_2'] = df['sec'].diff(periods=-1)\n",
        "    for index, row in df.iterrows():\n",
        "      #check call type\n",
        "      if abs(row['sec_diff_1'])<0.3 or abs(row['sec_diff_2'])<0.3:\n",
        "        IPI_short_counter+=1\n",
        "        if row['type'] == 'Call':\n",
        "          short_call +=1\n",
        "        else:\n",
        "          short_silence +=1"
      ],
      "metadata": {
        "id": "OyGGydHWDRaL"
      },
      "execution_count": 128,
      "outputs": []
    },
    {
      "cell_type": "code",
      "source": [
        "print(\n",
        "\"\"\"\n",
        "less_than_one_IPI_counter: {0}\n",
        "IPI_short_counter: {1}\n",
        "short_call: {2}\n",
        "short_silence: {3}\n",
        "\"\"\".format(\n",
        "    less_than_one_IPI_counter,\n",
        "    IPI_short_counter,\n",
        "    short_call, short_silence\n",
        ")\n",
        ")"
      ],
      "metadata": {
        "colab": {
          "base_uri": "https://localhost:8080/"
        },
        "id": "PLB-qr2yDSEC",
        "outputId": "c5b78330-9f2a-4e17-ef96-2e0f9ccff265"
      },
      "execution_count": 129,
      "outputs": [
        {
          "output_type": "stream",
          "name": "stdout",
          "text": [
            "\n",
            "less_than_one_IPI_counter: 0\n",
            "IPI_short_counter: 473\n",
            "short_call: 16\n",
            "short_silence: 457\n",
            "\n"
          ]
        }
      ]
    },
    {
      "cell_type": "code",
      "source": [
        "short_ratio.append(short_call/IPI_short_counter)\n",
        "\n",
        "print(short_ratio)"
      ],
      "metadata": {
        "colab": {
          "base_uri": "https://localhost:8080/"
        },
        "id": "agoG7HCnDXcy",
        "outputId": "76561821-5116-4bb3-de2a-8eb6cd782dd7"
      },
      "execution_count": 83,
      "outputs": [
        {
          "output_type": "stream",
          "name": "stdout",
          "text": [
            "[0.03382663847780127, 0.6278703994966971, 0.2011617900172117]\n"
          ]
        }
      ]
    },
    {
      "cell_type": "code",
      "source": [
        "short_ratio_vic = short_ratio\n",
        "short_ratio_reverse_vic = [1 - i for i in short_ratio_vic]"
      ],
      "metadata": {
        "id": "uYw3rpGPINA5"
      },
      "execution_count": 86,
      "outputs": []
    },
    {
      "cell_type": "code",
      "source": [
        "labels = ['Vic']\n",
        "overlap_vic = [statistics.mean(short_ratio_vic)]\n",
        "not_overlap_vic = [statistics.mean(short_ratio_reverse_vic)]\n",
        "overlap_std_vic = [statistics.stdev(short_ratio_vic)]\n",
        "notoverlap_std_vic = [statistics.stdev(short_ratio_reverse_vic)]\n",
        "\n",
        "width = 0.35       # the width of the bars: can also be len(x) sequence\n",
        "\n",
        "fig, ax = plt.subplots()\n",
        "\n",
        "ax.bar(labels, not_overlap_vic, width, yerr=notoverlap_std_vic, label='Male is silent')\n",
        "ax.bar(labels, overlap_vic, width, yerr=overlap_std_vic, bottom=not_overlap_vic,\n",
        "       label='Male is calling')\n",
        "\n",
        "ax.set_ylabel('Percentage')\n",
        "ax.set_title('Percentage of female calls happening during male call/silence')\n",
        "ax.legend()\n",
        "\n",
        "plt.show()"
      ],
      "metadata": {
        "colab": {
          "base_uri": "https://localhost:8080/",
          "height": 281
        },
        "id": "m2ScRereDZTL",
        "outputId": "ee73a276-6236-4ba4-d8f5-9e121481f3cf"
      },
      "execution_count": 87,
      "outputs": [
        {
          "output_type": "display_data",
          "data": {
            "text/plain": [
              "<Figure size 432x288 with 1 Axes>"
            ],
            "image/png": "[encoded data removed]"
          },
          "metadata": {
            "needs_background": "light"
          }
        }
      ]
    },
    {
      "cell_type": "markdown",
      "source": [
        "###Combined Bar Plot"
      ],
      "metadata": {
        "id": "Rue8iYyuJa_Y"
      }
    },
    {
      "cell_type": "code",
      "source": [
        "short_ratio = [0.2603007001032939, 0.2163471449185735] \n",
        "long_ratio = [0.13755624083716697, 0.21238041643218908]\n",
        "short_ratio_reverse = [1 - i for i in short_ratio]\n",
        "long_ratio_reverse = [1 - i for i in long_ratio]\n",
        "\n",
        "x = [0,0.9,1.35]\n",
        "color_bottom = ['darkorange','purple','purple']\n",
        "color_up = ['moccasin','plum','plum']\n",
        "\n",
        "overlap = [statistics.mean(short_ratio_vic), statistics.mean(short_ratio), statistics.mean(long_ratio)]\n",
        "not_overlap = [statistics.mean(short_ratio_reverse_vic), statistics.mean(short_ratio_reverse), statistics.mean(long_ratio_reverse)]\n",
        "overlap_std = [statistics.stdev(short_ratio_vic), statistics.stdev(short_ratio), statistics.stdev(long_ratio)]\n",
        "notoverlap_std = [statistics.stdev(short_ratio_reverse_vic), statistics.stdev(short_ratio_reverse), statistics.stdev(long_ratio_reverse)]\n",
        "\n",
        "width = 0.35       # the width of the bars: can also be len(x) sequence\n",
        "\n",
        "fig, ax = plt.subplots()\n",
        "\n",
        "ax.bar(x, not_overlap, width, yerr=notoverlap_std, label='Male is silent',color=color_bottom)\n",
        "ax.bar(x, overlap, width, yerr=overlap_std, bottom=not_overlap,\n",
        "       label='Male is calling',color=color_up)\n",
        "\n",
        "ax.set_ylabel('Percentage')\n",
        "ax.set_title('Percentage of female calls happening during male call/silence')\n",
        "plt.xticks(x,['','Short IPIs', 'Long IPIs'])\n",
        "ax.annotate(\"$X. poweri$\",[1,1],xytext=(1,-0.2))\n",
        "ax.annotate(\"$X. victorianus$\",[1,1],xytext=(-0.2,-0.2))\n",
        "ax.legend()\n",
        "\n",
        "plt.show()"
      ],
      "metadata": {
        "colab": {
          "base_uri": "https://localhost:8080/",
          "height": 300
        },
        "id": "o5XEmmJxGj9l",
        "outputId": "d82191d1-daac-4f3f-8fc6-f889663bc5a4"
      },
      "execution_count": 125,
      "outputs": [
        {
          "output_type": "display_data",
          "data": {
            "text/plain": [
              "<Figure size 432x288 with 1 Axes>"
            ],
            "image/png": "[encoded data removed]"
          },
          "metadata": {
            "needs_background": "light"
          }
        }
      ]
    },
    {
      "cell_type": "code",
      "source": [],
      "metadata": {
        "id": "pXuJ61fZJk7b"
      },
      "execution_count": null,
      "outputs": []
    }
  ]
}