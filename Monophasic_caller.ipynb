{
  "nbformat": 4,
  "nbformat_minor": 0,
  "metadata": {
    "colab": {
      "provenance": [],
      "mount_file_id": "14RzB7swJaQ7bFU4opse5f2BG8EXHfS_f",
      "authorship_tag": "ABX9TyNABIiVGzmpmhEyxjtXT6zV",
      "include_colab_link": true
    },
    "kernelspec": {
      "name": "python3",
      "display_name": "Python 3"
    },
    "language_info": {
      "name": "python"
    }
  },
  "cells": [
    {
      "cell_type": "markdown",
      "metadata": {
        "id": "view-in-github",
        "colab_type": "text"
      },
      "source": [
        "<a href=\"https://colab.research.google.com/github/jamespan1118/Xenopus_signal_processing/blob/main/Monophasic_caller.ipynb\" target=\"_parent\"><img src=\"https://colab.research.google.com/assets/colab-badge.svg\" alt=\"Open In Colab\"/></a>"
      ]
    },
    {
      "cell_type": "code",
      "execution_count": 6,
      "metadata": {
        "id": "wkjq8gE658vE"
      },
      "outputs": [],
      "source": [
        "import os\n",
        "import pandas as pd"
      ]
    },
    {
      "cell_type": "code",
      "source": [
        "path = '/content/drive/MyDrive/New_SURF_data/James_analyses_post_powerii/'\n",
        "total_counter = 0\n",
        "short_IPI_counter = 0\n",
        "long_IPI_counter = 0\n",
        "call_counter = 0\n",
        "call_short_counter = 0\n",
        "silent_counter=0\n",
        "\n",
        "for filename in os.listdir(path):\n",
        "  if filename.endswith('_femaleipi.csv'):\n",
        "    df = pd.read_csv(path+filename,index_col=0)\n",
        "    df['sec_diff_1'] = df['sec'].diff(periods=1)\n",
        "    df['sec_diff_2'] = df['sec'].diff(periods=-1)\n",
        "    for index, row in df.iterrows():\n",
        "      total_counter+=1\n",
        "      #check call type\n",
        "      if row['type'] == 'Call':\n",
        "        call_counter+=1\n",
        "      else:\n",
        "        silent_counter+=1\n",
        "      #check short\n",
        "      if abs(row['sec_diff_1'])<1 or abs(row['sec_diff_2'])<1:\n",
        "        short_IPI_counter+=1\n",
        "        if row['type'] == 'Call':\n",
        "          call_short_counter +=1\n",
        "      else:\n",
        "        long_IPI_counter+=1"
      ],
      "metadata": {
        "id": "gAE7gaGw8o1l"
      },
      "execution_count": 26,
      "outputs": []
    },
    {
      "cell_type": "code",
      "source": [
        "print(\n",
        "\"\"\"\n",
        "total_counter: {0}\n",
        "short_IPI_counter: {1}\n",
        "long_IPI_counter: {2}\n",
        "call_counter: {3}\n",
        "silent_counter: {4}\n",
        "call_short_counter: {5}\n",
        "\"\"\".format(\n",
        "    total_counter,\n",
        "    short_IPI_counter,\n",
        "    long_IPI_counter,\n",
        "    call_counter,\n",
        "    silent_counter,\n",
        "    call_short_counter\n",
        ")\n",
        ")"
      ],
      "metadata": {
        "colab": {
          "base_uri": "https://localhost:8080/"
        },
        "id": "FGbaXL7H89NN",
        "outputId": "dd26ce90-d362-4556-c11a-3a85795c0260"
      },
      "execution_count": 30,
      "outputs": [
        {
          "output_type": "stream",
          "name": "stdout",
          "text": [
            "\n",
            "total_counter: 78506\n",
            "short_IPI_counter: 73787\n",
            "long_IPI_counter: 4719\n",
            "call_counter: 10626\n",
            "silent_counter: 67880\n",
            "call_short_counter: 9728\n",
            "\n"
          ]
        }
      ]
    },
    {
      "cell_type": "code",
      "source": [
        "ratio = call_short_counter/short_IPI_counter\n",
        "print(ratio)"
      ],
      "metadata": {
        "colab": {
          "base_uri": "https://localhost:8080/"
        },
        "id": "Lm5SrwtA_6ap",
        "outputId": "9b34621f-f839-4675-db61-1d20805753ec"
      },
      "execution_count": 31,
      "outputs": [
        {
          "output_type": "stream",
          "name": "stdout",
          "text": [
            "0.13183894181901962\n"
          ]
        }
      ]
    },
    {
      "cell_type": "code",
      "source": [
        "df['sec_diff_2'] = df['sec'].diff(periods=-1)"
      ],
      "metadata": {
        "id": "U_JqUlDpAqY_"
      },
      "execution_count": 21,
      "outputs": []
    },
    {
      "cell_type": "code",
      "source": [
        "long_IPI_counter"
      ],
      "metadata": {
        "colab": {
          "base_uri": "https://localhost:8080/"
        },
        "id": "sBsDsMyeCKsp",
        "outputId": "2225246a-bd1c-4c32-8ce8-83ee574e7f9e"
      },
      "execution_count": 25,
      "outputs": [
        {
          "output_type": "execute_result",
          "data": {
            "text/plain": [
              "0"
            ]
          },
          "metadata": {},
          "execution_count": 25
        }
      ]
    },
    {
      "cell_type": "code",
      "source": [],
      "metadata": {
        "id": "KnuWJEJ-CR4w"
      },
      "execution_count": null,
      "outputs": []
    }
  ]
}