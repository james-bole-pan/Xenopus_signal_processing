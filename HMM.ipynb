{
  "nbformat": 4,
  "nbformat_minor": 0,
  "metadata": {
    "colab": {
      "name": "HMM.ipynb",
      "provenance": [],
      "mount_file_id": "1OkNrzGfdfAMOlqY0WqUZ1W6OYerMLUeS",
      "authorship_tag": "ABX9TyNPx4YCyI6AwWHM/qBOAA6Q",
      "include_colab_link": true
    },
    "kernelspec": {
      "name": "python3",
      "display_name": "Python 3"
    },
    "language_info": {
      "name": "python"
    }
  },
  "cells": [
    {
      "cell_type": "markdown",
      "metadata": {
        "id": "view-in-github",
        "colab_type": "text"
      },
      "source": [
        "<a href=\"https://colab.research.google.com/github/jamespan1118/Xenopus_signal_processing/blob/main/HMM.ipynb\" target=\"_parent\"><img src=\"https://colab.research.google.com/assets/colab-badge.svg\" alt=\"Open In Colab\"/></a>"
      ]
    },
    {
      "cell_type": "markdown",
      "source": [
        "####Creating the folder structures from raw data"
      ],
      "metadata": {
        "id": "AClK54I94O4m"
      }
    },
    {
      "cell_type": "code",
      "source": [
        "import pandas as pd\n",
        "import numpy as np\n",
        "import os"
      ],
      "metadata": {
        "id": "EnG-FISTOl2H"
      },
      "execution_count": 26,
      "outputs": []
    },
    {
      "cell_type": "code",
      "source": [
        "from google.colab import auth\n",
        "auth.authenticate_user()\n",
        "\n",
        "import gspread\n",
        "from google.auth import default\n",
        "creds, _ = default()\n",
        "\n",
        "gc = gspread.authorize(creds)"
      ],
      "metadata": {
        "colab": {
          "base_uri": "https://localhost:8080/"
        },
        "id": "XzehOdQBO834",
        "outputId": "c9b0fadc-b269-4f28-dc17-8ead1b52ca99"
      },
      "execution_count": 22,
      "outputs": [
        {
          "output_type": "stream",
          "name": "stderr",
          "text": [
            "WARNING:google.auth._default:No project ID could be determined. Consider running `gcloud config set project` or setting the GOOGLE_CLOUD_PROJECT environment variable\n"
          ]
        }
      ]
    },
    {
      "cell_type": "code",
      "source": [
        "worksheet = gc.open('Male Female Assay Log').sheet1\n",
        "\n",
        "# get_all_values gives a list of rows.\n",
        "rows = worksheet.get_all_values()\n",
        "\n",
        "import pandas as pd\n",
        "df = pd.DataFrame.from_records(rows)\n",
        "df.columns = df.iloc[0] \n",
        "df = df[1:]\n",
        "df.head()"
      ],
      "metadata": {
        "colab": {
          "base_uri": "https://localhost:8080/",
          "height": 652
        },
        "id": "USLR7RsdU2NU",
        "outputId": "797fdd31-dc23-49b2-f4b1-f802a6c4c7e6"
      },
      "execution_count": 23,
      "outputs": [
        {
          "output_type": "execute_result",
          "data": {
            "text/plain": [
              "0      Date Separation Status Recording_Tank Hydraphone  \\\n",
              "1  06/14/22          Separate              1          1   \n",
              "2  06/14/22          Separate              2          2   \n",
              "3  06/14/22          Separate              3          3   \n",
              "4  06/15/22          Together              1          1   \n",
              "5  06/15/22          Together              2          2   \n",
              "\n",
              "0                                   Folder Name Tank_Number_male RFID_male  \\\n",
              "1  20220614_F827E-F829C_F8340-F8297_F835F-F82C0                      F829C   \n",
              "2  20220614_F827E-F829C_F8340-F8297_F835F-F82C0                      F8297   \n",
              "3  20220614_F827E-F829C_F8340-F8297_F835F-F82C0                      F82C0   \n",
              "4  20220615_F827E-F829C_F8340-F8297_F835F-F82C0                      F829C   \n",
              "5  20220615_F827E-F829C_F8340-F8297_F835F-F82C0                      F8297   \n",
              "\n",
              "0 Species_male Mass_male hCG_injected_male Tank_Number_Female RFID_Female  \\\n",
              "1       laevis      50.1            0.2505                 31       F837E   \n",
              "2       laevis        46              0.23                 31       F8340   \n",
              "3       laevis      56.3            0.2815                 31       F835F   \n",
              "4       laevis      50.1            0.2505                 31       F837E   \n",
              "5       laevis        46              0.23                 31       F8340   \n",
              "\n",
              "0 Species_Female Mass_Female hCG_injected_Female  \\\n",
              "1         laevis       130.3              0.6515   \n",
              "2         laevis        98.7              0.4935   \n",
              "3         laevis       102.7              0.5135   \n",
              "4         laevis       130.3              0.6515   \n",
              "5         laevis        98.7              0.4935   \n",
              "\n",
              "0                                            Comment Frog Camera  \n",
              "1  only recorded for 55 minutes, terminated unexp...              \n",
              "2  only recorded for 55 minutes, terminated unexp...              \n",
              "3  only recorded for 55 minutes, terminated unexp...              \n",
              "4                                      ticking found              \n",
              "5                                         no ticking              "
            ],
            "text/html": [
              "\n",
              "  <div id=\"df-0dbfc8e0-44f6-454b-a04c-4298e325e555\">\n",
              "    <div class=\"colab-df-container\">\n",
              "      <div>\n",
              "<style scoped>\n",
              "    .dataframe tbody tr th:only-of-type {\n",
              "        vertical-align: middle;\n",
              "    }\n",
              "\n",
              "    .dataframe tbody tr th {\n",
              "        vertical-align: top;\n",
              "    }\n",
              "\n",
              "    .dataframe thead th {\n",
              "        text-align: right;\n",
              "    }\n",
              "</style>\n",
              "<table border=\"1\" class=\"dataframe\">\n",
              "  <thead>\n",
              "    <tr style=\"text-align: right;\">\n",
              "      <th></th>\n",
              "      <th>Date</th>\n",
              "      <th>Separation Status</th>\n",
              "      <th>Recording_Tank</th>\n",
              "      <th>Hydraphone</th>\n",
              "      <th>Folder Name</th>\n",
              "      <th>Tank_Number_male</th>\n",
              "      <th>RFID_male</th>\n",
              "      <th>Species_male</th>\n",
              "      <th>Mass_male</th>\n",
              "      <th>hCG_injected_male</th>\n",
              "      <th>Tank_Number_Female</th>\n",
              "      <th>RFID_Female</th>\n",
              "      <th>Species_Female</th>\n",
              "      <th>Mass_Female</th>\n",
              "      <th>hCG_injected_Female</th>\n",
              "      <th>Comment</th>\n",
              "      <th>Frog Camera</th>\n",
              "    </tr>\n",
              "  </thead>\n",
              "  <tbody>\n",
              "    <tr>\n",
              "      <th>1</th>\n",
              "      <td>06/14/22</td>\n",
              "      <td>Separate</td>\n",
              "      <td>1</td>\n",
              "      <td>1</td>\n",
              "      <td>20220614_F827E-F829C_F8340-F8297_F835F-F82C0</td>\n",
              "      <td></td>\n",
              "      <td>F829C</td>\n",
              "      <td>laevis</td>\n",
              "      <td>50.1</td>\n",
              "      <td>0.2505</td>\n",
              "      <td>31</td>\n",
              "      <td>F837E</td>\n",
              "      <td>laevis</td>\n",
              "      <td>130.3</td>\n",
              "      <td>0.6515</td>\n",
              "      <td>only recorded for 55 minutes, terminated unexp...</td>\n",
              "      <td></td>\n",
              "    </tr>\n",
              "    <tr>\n",
              "      <th>2</th>\n",
              "      <td>06/14/22</td>\n",
              "      <td>Separate</td>\n",
              "      <td>2</td>\n",
              "      <td>2</td>\n",
              "      <td>20220614_F827E-F829C_F8340-F8297_F835F-F82C0</td>\n",
              "      <td></td>\n",
              "      <td>F8297</td>\n",
              "      <td>laevis</td>\n",
              "      <td>46</td>\n",
              "      <td>0.23</td>\n",
              "      <td>31</td>\n",
              "      <td>F8340</td>\n",
              "      <td>laevis</td>\n",
              "      <td>98.7</td>\n",
              "      <td>0.4935</td>\n",
              "      <td>only recorded for 55 minutes, terminated unexp...</td>\n",
              "      <td></td>\n",
              "    </tr>\n",
              "    <tr>\n",
              "      <th>3</th>\n",
              "      <td>06/14/22</td>\n",
              "      <td>Separate</td>\n",
              "      <td>3</td>\n",
              "      <td>3</td>\n",
              "      <td>20220614_F827E-F829C_F8340-F8297_F835F-F82C0</td>\n",
              "      <td></td>\n",
              "      <td>F82C0</td>\n",
              "      <td>laevis</td>\n",
              "      <td>56.3</td>\n",
              "      <td>0.2815</td>\n",
              "      <td>31</td>\n",
              "      <td>F835F</td>\n",
              "      <td>laevis</td>\n",
              "      <td>102.7</td>\n",
              "      <td>0.5135</td>\n",
              "      <td>only recorded for 55 minutes, terminated unexp...</td>\n",
              "      <td></td>\n",
              "    </tr>\n",
              "    <tr>\n",
              "      <th>4</th>\n",
              "      <td>06/15/22</td>\n",
              "      <td>Together</td>\n",
              "      <td>1</td>\n",
              "      <td>1</td>\n",
              "      <td>20220615_F827E-F829C_F8340-F8297_F835F-F82C0</td>\n",
              "      <td></td>\n",
              "      <td>F829C</td>\n",
              "      <td>laevis</td>\n",
              "      <td>50.1</td>\n",
              "      <td>0.2505</td>\n",
              "      <td>31</td>\n",
              "      <td>F837E</td>\n",
              "      <td>laevis</td>\n",
              "      <td>130.3</td>\n",
              "      <td>0.6515</td>\n",
              "      <td>ticking found</td>\n",
              "      <td></td>\n",
              "    </tr>\n",
              "    <tr>\n",
              "      <th>5</th>\n",
              "      <td>06/15/22</td>\n",
              "      <td>Together</td>\n",
              "      <td>2</td>\n",
              "      <td>2</td>\n",
              "      <td>20220615_F827E-F829C_F8340-F8297_F835F-F82C0</td>\n",
              "      <td></td>\n",
              "      <td>F8297</td>\n",
              "      <td>laevis</td>\n",
              "      <td>46</td>\n",
              "      <td>0.23</td>\n",
              "      <td>31</td>\n",
              "      <td>F8340</td>\n",
              "      <td>laevis</td>\n",
              "      <td>98.7</td>\n",
              "      <td>0.4935</td>\n",
              "      <td>no ticking</td>\n",
              "      <td></td>\n",
              "    </tr>\n",
              "  </tbody>\n",
              "</table>\n",
              "</div>\n",
              "      <button class=\"colab-df-convert\" onclick=\"convertToInteractive('df-0dbfc8e0-44f6-454b-a04c-4298e325e555')\"\n",
              "              title=\"Convert this dataframe to an interactive table.\"\n",
              "              style=\"display:none;\">\n",
              "        \n",
              "  <svg xmlns=\"http://www.w3.org/2000/svg\" height=\"24px\"viewBox=\"0 0 24 24\"\n",
              "       width=\"24px\">\n",
              "    <path d=\"M0 0h24v24H0V0z\" fill=\"none\"/>\n",
              "    <path d=\"M18.56 5.44l.94 2.06.94-2.06 2.06-.94-2.06-.94-.94-2.06-.94 2.06-2.06.94zm-11 1L8.5 8.5l.94-2.06 2.06-.94-2.06-.94L8.5 2.5l-.94 2.06-2.06.94zm10 10l.94 2.06.94-2.06 2.06-.94-2.06-.94-.94-2.06-.94 2.06-2.06.94z\"/><path d=\"M17.41 7.96l-1.37-1.37c-.4-.4-.92-.59-1.43-.59-.52 0-1.04.2-1.43.59L10.3 9.45l-7.72 7.72c-.78.78-.78 2.05 0 2.83L4 21.41c.39.39.9.59 1.41.59.51 0 1.02-.2 1.41-.59l7.78-7.78 2.81-2.81c.8-.78.8-2.07 0-2.86zM5.41 20L4 18.59l7.72-7.72 1.47 1.35L5.41 20z\"/>\n",
              "  </svg>\n",
              "      </button>\n",
              "      \n",
              "  <style>\n",
              "    .colab-df-container {\n",
              "      display:flex;\n",
              "      flex-wrap:wrap;\n",
              "      gap: 12px;\n",
              "    }\n",
              "\n",
              "    .colab-df-convert {\n",
              "      background-color: #E8F0FE;\n",
              "      border: none;\n",
              "      border-radius: 50%;\n",
              "      cursor: pointer;\n",
              "      display: none;\n",
              "      fill: #1967D2;\n",
              "      height: 32px;\n",
              "      padding: 0 0 0 0;\n",
              "      width: 32px;\n",
              "    }\n",
              "\n",
              "    .colab-df-convert:hover {\n",
              "      background-color: #E2EBFA;\n",
              "      box-shadow: 0px 1px 2px rgba(60, 64, 67, 0.3), 0px 1px 3px 1px rgba(60, 64, 67, 0.15);\n",
              "      fill: #174EA6;\n",
              "    }\n",
              "\n",
              "    [theme=dark] .colab-df-convert {\n",
              "      background-color: #3B4455;\n",
              "      fill: #D2E3FC;\n",
              "    }\n",
              "\n",
              "    [theme=dark] .colab-df-convert:hover {\n",
              "      background-color: #434B5C;\n",
              "      box-shadow: 0px 1px 3px 1px rgba(0, 0, 0, 0.15);\n",
              "      filter: drop-shadow(0px 1px 2px rgba(0, 0, 0, 0.3));\n",
              "      fill: #FFFFFF;\n",
              "    }\n",
              "  </style>\n",
              "\n",
              "      <script>\n",
              "        const buttonEl =\n",
              "          document.querySelector('#df-0dbfc8e0-44f6-454b-a04c-4298e325e555 button.colab-df-convert');\n",
              "        buttonEl.style.display =\n",
              "          google.colab.kernel.accessAllowed ? 'block' : 'none';\n",
              "\n",
              "        async function convertToInteractive(key) {\n",
              "          const element = document.querySelector('#df-0dbfc8e0-44f6-454b-a04c-4298e325e555');\n",
              "          const dataTable =\n",
              "            await google.colab.kernel.invokeFunction('convertToInteractive',\n",
              "                                                     [key], {});\n",
              "          if (!dataTable) return;\n",
              "\n",
              "          const docLinkHtml = 'Like what you see? Visit the ' +\n",
              "            '<a target=\"_blank\" href=https://colab.research.google.com/notebooks/data_table.ipynb>data table notebook</a>'\n",
              "            + ' to learn more about interactive tables.';\n",
              "          element.innerHTML = '';\n",
              "          dataTable['output_type'] = 'display_data';\n",
              "          await google.colab.output.renderOutput(dataTable, element);\n",
              "          const docLink = document.createElement('div');\n",
              "          docLink.innerHTML = docLinkHtml;\n",
              "          element.appendChild(docLink);\n",
              "        }\n",
              "      </script>\n",
              "    </div>\n",
              "  </div>\n",
              "  "
            ]
          },
          "metadata": {},
          "execution_count": 23
        }
      ]
    },
    {
      "cell_type": "code",
      "execution_count": 40,
      "metadata": {
        "id": "M7lJDw8H4LQk"
      },
      "outputs": [],
      "source": [
        "def parse_folder_name(folder_name):\n",
        "  pair_number = folder_name.count('_')\n",
        "  pair_names = []\n",
        "  date = folder_name.split('_')[0]\n",
        "  for i in range(0,pair_number):\n",
        "    pair_name = folder_name.split('_')[i+1]\n",
        "    pair_names.append(pair_name)\n",
        "  #search for species\n",
        "  species_list = []\n",
        "  for i in pair_names:\n",
        "    female_ID = i.split('-')[1]\n",
        "    #species = np.array(df.loc[df['RFID_Female']==female_ID]['Species_Female'])[0]\n",
        "    species = df.loc[df['RFID_Female']==female_ID]['Species_Female'].values[0]\n",
        "    species_list.append(species)\n",
        "  assert(len(pair_names)==len(species_list))\n",
        "  return pair_number, pair_names, species_list"
      ]
    },
    {
      "cell_type": "code",
      "source": [
        "number,names,species_list = parse_folder_name('20220713_F832F-F8361_AD812-AD810_AD7ED-AD7F8_AD7F5-AD817')\n",
        "print(number)\n",
        "print(len(names))\n",
        "print(len(species_list))"
      ],
      "metadata": {
        "colab": {
          "base_uri": "https://localhost:8080/"
        },
        "id": "3WvMgJo4OV17",
        "outputId": "44bda6b6-9723-4d05-caa0-0e320ca0c9f7"
      },
      "execution_count": 41,
      "outputs": [
        {
          "output_type": "stream",
          "name": "stdout",
          "text": [
            "4\n",
            "4\n",
            "4\n"
          ]
        }
      ]
    },
    {
      "cell_type": "code",
      "source": [
        "overall_dir = os.path.dirname(os.path.realpath('/content/drive/MyDrive/overall/Male Female Assay Log.gsheet'))"
      ],
      "metadata": {
        "id": "sCfpXLD4lS4j"
      },
      "execution_count": 50,
      "outputs": []
    },
    {
      "cell_type": "code",
      "source": [
        "def make_pair_dir(folder_name,overall_dir):\n",
        "  pair_number, pair_names, species_list = parse_folder_name(folder_name)\n",
        "  for i in range(0,pair_number):\n",
        "    current_species = species_list[i]\n",
        "    species_dir = os.path.join(overall_dir,current_species)\n",
        "    os.chdir(species_dir)\n",
        "    pair_name = pair_names[i]\n",
        "    pair_dir = os.path.join(species_dir,pair_name)\n",
        "    if not os.path.exists(pair_dir):\n",
        "      os.mkdir(pair_dir)"
      ],
      "metadata": {
        "id": "sTFx_DFVfp8O"
      },
      "execution_count": 65,
      "outputs": []
    },
    {
      "cell_type": "code",
      "source": [
        "make_pair_dir('20220624_ F820D-F820C_F8218-F8215_F8244-F8211',overall_dir)"
      ],
      "metadata": {
        "id": "hu4heXCXgrpG"
      },
      "execution_count": 67,
      "outputs": []
    },
    {
      "cell_type": "code",
      "source": [
        ""
      ],
      "metadata": {
        "id": "3BDQqUfuj3ps"
      },
      "execution_count": null,
      "outputs": []
    }
  ]
}