{
  "cells": [
    {
      "cell_type": "markdown",
      "metadata": {
        "id": "view-in-github",
        "colab_type": "text"
      },
      "source": [
        "<a href=\"https://colab.research.google.com/github/jamespan1118/Xenopus_signal_processing/blob/main/File_Structure.ipynb\" target=\"_parent\"><img src=\"https://colab.research.google.com/assets/colab-badge.svg\" alt=\"Open In Colab\"/></a>"
      ]
    },
    {
      "cell_type": "markdown",
      "metadata": {
        "id": "AClK54I94O4m"
      },
      "source": [
        "####Creating the folder structures from raw data"
      ]
    },
    {
      "cell_type": "code",
      "source": [
        "from google.colab import drive\n",
        "drive.mount('/content/drive')"
      ],
      "metadata": {
        "colab": {
          "base_uri": "https://localhost:8080/"
        },
        "id": "tehBHCzZ-d_v",
        "outputId": "53d0fa3f-1759-4bb7-8fdb-75411f353ae1"
      },
      "execution_count": 1,
      "outputs": [
        {
          "output_type": "stream",
          "name": "stdout",
          "text": [
            "Mounted at /content/drive\n"
          ]
        }
      ]
    },
    {
      "cell_type": "code",
      "execution_count": 3,
      "metadata": {
        "colab": {
          "base_uri": "https://localhost:8080/"
        },
        "id": "mOZif0VBG9Tl",
        "outputId": "aa4b8cbd-f251-44ec-f5e5-38022395bd6e"
      },
      "outputs": [
        {
          "output_type": "stream",
          "name": "stdout",
          "text": [
            "Looking in indexes: https://pypi.org/simple, https://us-python.pkg.dev/colab-wheels/public/simple/\n",
            "Collecting pydub\n",
            "  Downloading pydub-0.25.1-py2.py3-none-any.whl (32 kB)\n",
            "Installing collected packages: pydub\n",
            "Successfully installed pydub-0.25.1\n"
          ]
        }
      ],
      "source": [
        "!pip install pydub"
      ]
    },
    {
      "cell_type": "code",
      "execution_count": 4,
      "metadata": {
        "id": "EnG-FISTOl2H"
      },
      "outputs": [],
      "source": [
        "import librosa\n",
        "from librosa import display\n",
        "import pandas as pd\n",
        "import numpy as np\n",
        "import os\n",
        "import shutil\n",
        "from pydub import AudioSegment \n",
        "from pydub.utils import make_chunks \n",
        "from scipy.io.wavfile import write\n",
        "import warnings"
      ]
    },
    {
      "cell_type": "code",
      "execution_count": 5,
      "metadata": {
        "id": "XzehOdQBO834"
      },
      "outputs": [],
      "source": [
        "from google.colab import auth\n",
        "auth.authenticate_user()\n",
        "\n",
        "import gspread\n",
        "from google.auth import default\n",
        "creds, _ = default()\n",
        "\n",
        "gc = gspread.authorize(creds)"
      ]
    },
    {
      "cell_type": "code",
      "execution_count": 19,
      "metadata": {
        "colab": {
          "base_uri": "https://localhost:8080/",
          "height": 974
        },
        "id": "USLR7RsdU2NU",
        "outputId": "8363d799-e750-4f81-9e1a-d1d11326a702"
      },
      "outputs": [
        {
          "output_type": "execute_result",
          "data": {
            "text/plain": [
              "          Date Separation Status  Recording_Tank  Hydraphone  \\\n",
              "0   2022-06-14          Separate             1.0         1.0   \n",
              "1   2022-06-14          Separate             2.0         2.0   \n",
              "2   2022-06-14          Separate             3.0         3.0   \n",
              "3   2022-06-15          Together             1.0         1.0   \n",
              "4   2022-06-15          Together             2.0         2.0   \n",
              "..         ...               ...             ...         ...   \n",
              "102 2022-08-03          Together             2.0         2.0   \n",
              "103 2022-08-03          Together             3.0         3.0   \n",
              "104        NaT               NaN             NaN         NaN   \n",
              "105 2022-08-03          Separate             3.0         3.0   \n",
              "106 2022-08-04          Together             3.0         3.0   \n",
              "\n",
              "                                      Folder Name Tank_Number_male RFID_male  \\\n",
              "0    20220614_F829C-F837E_F8297-F8340_F82C0-F835F              NaN     F829C   \n",
              "1    20220614_F829C-F837E_F8297-F8340_F82C0-F835F              NaN     F8297   \n",
              "2    20220614_F829C-F837E_F8297-F8340_F82C0-F835F              NaN     F82C0   \n",
              "3    20220615_F829C-F837E_F8297-F8340_F82C0-F835F              NaN     F829C   \n",
              "4    20220615_F829C-F837E_F8297-F8340_F82C0-F835F              NaN     F8297   \n",
              "..                                            ...              ...       ...   \n",
              "102              20220803_AD82B-AD7E3_AD804-AD827       5 (old 49)     AD82B   \n",
              "103              20220803_AD82B-AD7E3_AD804-AD827       5 (old 49)     AD804   \n",
              "104                                           NaN              NaN       NaN   \n",
              "105                          20220803_AD81F-AD7E5       5 (old 49)     AD81F   \n",
              "106                          20220804_AD81F-AD7E5       5 (old 49)     AD81F   \n",
              "\n",
              "    Species_male  Mass_male  hCG_injected_male Tank_Number_Female RFID_Female  \\\n",
              "0         laevis       50.1             0.2505               31.0       F837E   \n",
              "1         laevis       46.0             0.2300               31.0       F8340   \n",
              "2         laevis       56.3             0.2815               31.0       F835F   \n",
              "3         laevis       50.1             0.2505               31.0       F837E   \n",
              "4         laevis       46.0             0.2300               31.0       F8340   \n",
              "..           ...        ...                ...                ...         ...   \n",
              "102       malawi       16.9             0.0845         5 (old 49)       AD7E3   \n",
              "103       malawi       17.7             0.0885         5 (old 49)       AD827   \n",
              "104          NaN        NaN                NaN                NaN         NaN   \n",
              "105       malawi       12.2             0.0610         5 (old 49)       AD7E5   \n",
              "106       malawi       12.2             0.0610         5 (old 49)       AD7E5   \n",
              "\n",
              "    Species_Female  Mass_Female  hCG_injected_Female  \\\n",
              "0           laevis        130.3               0.6515   \n",
              "1           laevis         98.7               0.4935   \n",
              "2           laevis        102.7               0.5135   \n",
              "3           laevis        130.3               0.6515   \n",
              "4           laevis         98.7               0.4935   \n",
              "..             ...          ...                  ...   \n",
              "102         malawi         32.4               0.1620   \n",
              "103         malawi         29.2               0.1460   \n",
              "104            NaN          NaN                  NaN   \n",
              "105         malawi         20.9               0.1045   \n",
              "106         malawi         20.9               0.1045   \n",
              "\n",
              "                                               Comment Frog Camera  \n",
              "0    only recorded for 55 minutes, terminated unexp...         NaN  \n",
              "1    only recorded for 55 minutes, terminated unexp...         NaN  \n",
              "2    only recorded for 55 minutes, terminated unexp...         NaN  \n",
              "3                                        ticking found         NaN  \n",
              "4                                           no ticking         NaN  \n",
              "..                                                 ...         ...  \n",
              "102                                                NaN         NaN  \n",
              "103                                                NaN         NaN  \n",
              "104                                                NaN         NaN  \n",
              "105                                                NaN         NaN  \n",
              "106                                                NaN         NaN  \n",
              "\n",
              "[107 rows x 17 columns]"
            ],
            "text/html": [
              "\n",
              "  <div id=\"df-64686321-fce5-468f-b474-f9be1bd4d730\">\n",
              "    <div class=\"colab-df-container\">\n",
              "      <div>\n",
              "<style scoped>\n",
              "    .dataframe tbody tr th:only-of-type {\n",
              "        vertical-align: middle;\n",
              "    }\n",
              "\n",
              "    .dataframe tbody tr th {\n",
              "        vertical-align: top;\n",
              "    }\n",
              "\n",
              "    .dataframe thead th {\n",
              "        text-align: right;\n",
              "    }\n",
              "</style>\n",
              "<table border=\"1\" class=\"dataframe\">\n",
              "  <thead>\n",
              "    <tr style=\"text-align: right;\">\n",
              "      <th></th>\n",
              "      <th>Date</th>\n",
              "      <th>Separation Status</th>\n",
              "      <th>Recording_Tank</th>\n",
              "      <th>Hydraphone</th>\n",
              "      <th>Folder Name</th>\n",
              "      <th>Tank_Number_male</th>\n",
              "      <th>RFID_male</th>\n",
              "      <th>Species_male</th>\n",
              "      <th>Mass_male</th>\n",
              "      <th>hCG_injected_male</th>\n",
              "      <th>Tank_Number_Female</th>\n",
              "      <th>RFID_Female</th>\n",
              "      <th>Species_Female</th>\n",
              "      <th>Mass_Female</th>\n",
              "      <th>hCG_injected_Female</th>\n",
              "      <th>Comment</th>\n",
              "      <th>Frog Camera</th>\n",
              "    </tr>\n",
              "  </thead>\n",
              "  <tbody>\n",
              "    <tr>\n",
              "      <th>0</th>\n",
              "      <td>2022-06-14</td>\n",
              "      <td>Separate</td>\n",
              "      <td>1.0</td>\n",
              "      <td>1.0</td>\n",
              "      <td>20220614_F829C-F837E_F8297-F8340_F82C0-F835F</td>\n",
              "      <td>NaN</td>\n",
              "      <td>F829C</td>\n",
              "      <td>laevis</td>\n",
              "      <td>50.1</td>\n",
              "      <td>0.2505</td>\n",
              "      <td>31.0</td>\n",
              "      <td>F837E</td>\n",
              "      <td>laevis</td>\n",
              "      <td>130.3</td>\n",
              "      <td>0.6515</td>\n",
              "      <td>only recorded for 55 minutes, terminated unexp...</td>\n",
              "      <td>NaN</td>\n",
              "    </tr>\n",
              "    <tr>\n",
              "      <th>1</th>\n",
              "      <td>2022-06-14</td>\n",
              "      <td>Separate</td>\n",
              "      <td>2.0</td>\n",
              "      <td>2.0</td>\n",
              "      <td>20220614_F829C-F837E_F8297-F8340_F82C0-F835F</td>\n",
              "      <td>NaN</td>\n",
              "      <td>F8297</td>\n",
              "      <td>laevis</td>\n",
              "      <td>46.0</td>\n",
              "      <td>0.2300</td>\n",
              "      <td>31.0</td>\n",
              "      <td>F8340</td>\n",
              "      <td>laevis</td>\n",
              "      <td>98.7</td>\n",
              "      <td>0.4935</td>\n",
              "      <td>only recorded for 55 minutes, terminated unexp...</td>\n",
              "      <td>NaN</td>\n",
              "    </tr>\n",
              "    <tr>\n",
              "      <th>2</th>\n",
              "      <td>2022-06-14</td>\n",
              "      <td>Separate</td>\n",
              "      <td>3.0</td>\n",
              "      <td>3.0</td>\n",
              "      <td>20220614_F829C-F837E_F8297-F8340_F82C0-F835F</td>\n",
              "      <td>NaN</td>\n",
              "      <td>F82C0</td>\n",
              "      <td>laevis</td>\n",
              "      <td>56.3</td>\n",
              "      <td>0.2815</td>\n",
              "      <td>31.0</td>\n",
              "      <td>F835F</td>\n",
              "      <td>laevis</td>\n",
              "      <td>102.7</td>\n",
              "      <td>0.5135</td>\n",
              "      <td>only recorded for 55 minutes, terminated unexp...</td>\n",
              "      <td>NaN</td>\n",
              "    </tr>\n",
              "    <tr>\n",
              "      <th>3</th>\n",
              "      <td>2022-06-15</td>\n",
              "      <td>Together</td>\n",
              "      <td>1.0</td>\n",
              "      <td>1.0</td>\n",
              "      <td>20220615_F829C-F837E_F8297-F8340_F82C0-F835F</td>\n",
              "      <td>NaN</td>\n",
              "      <td>F829C</td>\n",
              "      <td>laevis</td>\n",
              "      <td>50.1</td>\n",
              "      <td>0.2505</td>\n",
              "      <td>31.0</td>\n",
              "      <td>F837E</td>\n",
              "      <td>laevis</td>\n",
              "      <td>130.3</td>\n",
              "      <td>0.6515</td>\n",
              "      <td>ticking found</td>\n",
              "      <td>NaN</td>\n",
              "    </tr>\n",
              "    <tr>\n",
              "      <th>4</th>\n",
              "      <td>2022-06-15</td>\n",
              "      <td>Together</td>\n",
              "      <td>2.0</td>\n",
              "      <td>2.0</td>\n",
              "      <td>20220615_F829C-F837E_F8297-F8340_F82C0-F835F</td>\n",
              "      <td>NaN</td>\n",
              "      <td>F8297</td>\n",
              "      <td>laevis</td>\n",
              "      <td>46.0</td>\n",
              "      <td>0.2300</td>\n",
              "      <td>31.0</td>\n",
              "      <td>F8340</td>\n",
              "      <td>laevis</td>\n",
              "      <td>98.7</td>\n",
              "      <td>0.4935</td>\n",
              "      <td>no ticking</td>\n",
              "      <td>NaN</td>\n",
              "    </tr>\n",
              "    <tr>\n",
              "      <th>...</th>\n",
              "      <td>...</td>\n",
              "      <td>...</td>\n",
              "      <td>...</td>\n",
              "      <td>...</td>\n",
              "      <td>...</td>\n",
              "      <td>...</td>\n",
              "      <td>...</td>\n",
              "      <td>...</td>\n",
              "      <td>...</td>\n",
              "      <td>...</td>\n",
              "      <td>...</td>\n",
              "      <td>...</td>\n",
              "      <td>...</td>\n",
              "      <td>...</td>\n",
              "      <td>...</td>\n",
              "      <td>...</td>\n",
              "      <td>...</td>\n",
              "    </tr>\n",
              "    <tr>\n",
              "      <th>102</th>\n",
              "      <td>2022-08-03</td>\n",
              "      <td>Together</td>\n",
              "      <td>2.0</td>\n",
              "      <td>2.0</td>\n",
              "      <td>20220803_AD82B-AD7E3_AD804-AD827</td>\n",
              "      <td>5 (old 49)</td>\n",
              "      <td>AD82B</td>\n",
              "      <td>malawi</td>\n",
              "      <td>16.9</td>\n",
              "      <td>0.0845</td>\n",
              "      <td>5 (old 49)</td>\n",
              "      <td>AD7E3</td>\n",
              "      <td>malawi</td>\n",
              "      <td>32.4</td>\n",
              "      <td>0.1620</td>\n",
              "      <td>NaN</td>\n",
              "      <td>NaN</td>\n",
              "    </tr>\n",
              "    <tr>\n",
              "      <th>103</th>\n",
              "      <td>2022-08-03</td>\n",
              "      <td>Together</td>\n",
              "      <td>3.0</td>\n",
              "      <td>3.0</td>\n",
              "      <td>20220803_AD82B-AD7E3_AD804-AD827</td>\n",
              "      <td>5 (old 49)</td>\n",
              "      <td>AD804</td>\n",
              "      <td>malawi</td>\n",
              "      <td>17.7</td>\n",
              "      <td>0.0885</td>\n",
              "      <td>5 (old 49)</td>\n",
              "      <td>AD827</td>\n",
              "      <td>malawi</td>\n",
              "      <td>29.2</td>\n",
              "      <td>0.1460</td>\n",
              "      <td>NaN</td>\n",
              "      <td>NaN</td>\n",
              "    </tr>\n",
              "    <tr>\n",
              "      <th>104</th>\n",
              "      <td>NaT</td>\n",
              "      <td>NaN</td>\n",
              "      <td>NaN</td>\n",
              "      <td>NaN</td>\n",
              "      <td>NaN</td>\n",
              "      <td>NaN</td>\n",
              "      <td>NaN</td>\n",
              "      <td>NaN</td>\n",
              "      <td>NaN</td>\n",
              "      <td>NaN</td>\n",
              "      <td>NaN</td>\n",
              "      <td>NaN</td>\n",
              "      <td>NaN</td>\n",
              "      <td>NaN</td>\n",
              "      <td>NaN</td>\n",
              "      <td>NaN</td>\n",
              "      <td>NaN</td>\n",
              "    </tr>\n",
              "    <tr>\n",
              "      <th>105</th>\n",
              "      <td>2022-08-03</td>\n",
              "      <td>Separate</td>\n",
              "      <td>3.0</td>\n",
              "      <td>3.0</td>\n",
              "      <td>20220803_AD81F-AD7E5</td>\n",
              "      <td>5 (old 49)</td>\n",
              "      <td>AD81F</td>\n",
              "      <td>malawi</td>\n",
              "      <td>12.2</td>\n",
              "      <td>0.0610</td>\n",
              "      <td>5 (old 49)</td>\n",
              "      <td>AD7E5</td>\n",
              "      <td>malawi</td>\n",
              "      <td>20.9</td>\n",
              "      <td>0.1045</td>\n",
              "      <td>NaN</td>\n",
              "      <td>NaN</td>\n",
              "    </tr>\n",
              "    <tr>\n",
              "      <th>106</th>\n",
              "      <td>2022-08-04</td>\n",
              "      <td>Together</td>\n",
              "      <td>3.0</td>\n",
              "      <td>3.0</td>\n",
              "      <td>20220804_AD81F-AD7E5</td>\n",
              "      <td>5 (old 49)</td>\n",
              "      <td>AD81F</td>\n",
              "      <td>malawi</td>\n",
              "      <td>12.2</td>\n",
              "      <td>0.0610</td>\n",
              "      <td>5 (old 49)</td>\n",
              "      <td>AD7E5</td>\n",
              "      <td>malawi</td>\n",
              "      <td>20.9</td>\n",
              "      <td>0.1045</td>\n",
              "      <td>NaN</td>\n",
              "      <td>NaN</td>\n",
              "    </tr>\n",
              "  </tbody>\n",
              "</table>\n",
              "<p>107 rows × 17 columns</p>\n",
              "</div>\n",
              "      <button class=\"colab-df-convert\" onclick=\"convertToInteractive('df-64686321-fce5-468f-b474-f9be1bd4d730')\"\n",
              "              title=\"Convert this dataframe to an interactive table.\"\n",
              "              style=\"display:none;\">\n",
              "        \n",
              "  <svg xmlns=\"http://www.w3.org/2000/svg\" height=\"24px\"viewBox=\"0 0 24 24\"\n",
              "       width=\"24px\">\n",
              "    <path d=\"M0 0h24v24H0V0z\" fill=\"none\"/>\n",
              "    <path d=\"M18.56 5.44l.94 2.06.94-2.06 2.06-.94-2.06-.94-.94-2.06-.94 2.06-2.06.94zm-11 1L8.5 8.5l.94-2.06 2.06-.94-2.06-.94L8.5 2.5l-.94 2.06-2.06.94zm10 10l.94 2.06.94-2.06 2.06-.94-2.06-.94-.94-2.06-.94 2.06-2.06.94z\"/><path d=\"M17.41 7.96l-1.37-1.37c-.4-.4-.92-.59-1.43-.59-.52 0-1.04.2-1.43.59L10.3 9.45l-7.72 7.72c-.78.78-.78 2.05 0 2.83L4 21.41c.39.39.9.59 1.41.59.51 0 1.02-.2 1.41-.59l7.78-7.78 2.81-2.81c.8-.78.8-2.07 0-2.86zM5.41 20L4 18.59l7.72-7.72 1.47 1.35L5.41 20z\"/>\n",
              "  </svg>\n",
              "      </button>\n",
              "      \n",
              "  <style>\n",
              "    .colab-df-container {\n",
              "      display:flex;\n",
              "      flex-wrap:wrap;\n",
              "      gap: 12px;\n",
              "    }\n",
              "\n",
              "    .colab-df-convert {\n",
              "      background-color: #E8F0FE;\n",
              "      border: none;\n",
              "      border-radius: 50%;\n",
              "      cursor: pointer;\n",
              "      display: none;\n",
              "      fill: #1967D2;\n",
              "      height: 32px;\n",
              "      padding: 0 0 0 0;\n",
              "      width: 32px;\n",
              "    }\n",
              "\n",
              "    .colab-df-convert:hover {\n",
              "      background-color: #E2EBFA;\n",
              "      box-shadow: 0px 1px 2px rgba(60, 64, 67, 0.3), 0px 1px 3px 1px rgba(60, 64, 67, 0.15);\n",
              "      fill: #174EA6;\n",
              "    }\n",
              "\n",
              "    [theme=dark] .colab-df-convert {\n",
              "      background-color: #3B4455;\n",
              "      fill: #D2E3FC;\n",
              "    }\n",
              "\n",
              "    [theme=dark] .colab-df-convert:hover {\n",
              "      background-color: #434B5C;\n",
              "      box-shadow: 0px 1px 3px 1px rgba(0, 0, 0, 0.15);\n",
              "      filter: drop-shadow(0px 1px 2px rgba(0, 0, 0, 0.3));\n",
              "      fill: #FFFFFF;\n",
              "    }\n",
              "  </style>\n",
              "\n",
              "      <script>\n",
              "        const buttonEl =\n",
              "          document.querySelector('#df-64686321-fce5-468f-b474-f9be1bd4d730 button.colab-df-convert');\n",
              "        buttonEl.style.display =\n",
              "          google.colab.kernel.accessAllowed ? 'block' : 'none';\n",
              "\n",
              "        async function convertToInteractive(key) {\n",
              "          const element = document.querySelector('#df-64686321-fce5-468f-b474-f9be1bd4d730');\n",
              "          const dataTable =\n",
              "            await google.colab.kernel.invokeFunction('convertToInteractive',\n",
              "                                                     [key], {});\n",
              "          if (!dataTable) return;\n",
              "\n",
              "          const docLinkHtml = 'Like what you see? Visit the ' +\n",
              "            '<a target=\"_blank\" href=https://colab.research.google.com/notebooks/data_table.ipynb>data table notebook</a>'\n",
              "            + ' to learn more about interactive tables.';\n",
              "          element.innerHTML = '';\n",
              "          dataTable['output_type'] = 'display_data';\n",
              "          await google.colab.output.renderOutput(dataTable, element);\n",
              "          const docLink = document.createElement('div');\n",
              "          docLink.innerHTML = docLinkHtml;\n",
              "          element.appendChild(docLink);\n",
              "        }\n",
              "      </script>\n",
              "    </div>\n",
              "  </div>\n",
              "  "
            ]
          },
          "metadata": {},
          "execution_count": 19
        }
      ],
      "source": [
        "#worksheet = gc.open('/content/drive/MyDrive/Xenopus_male_female_data/overall/Male Female Assay Log.gsheet').sheet1\n",
        "\n",
        "#get_all_values gives a list of rows.\n",
        "#rows = worksheet.get_all_values()\n",
        "\n",
        "import pandas as pd\n",
        "df = pd.read_excel('/content/drive/MyDrive/Xenopus_male_female_data/overall/Male Female Assay Log.xlsx')\n",
        "df"
      ]
    },
    {
      "cell_type": "code",
      "execution_count": 20,
      "metadata": {
        "id": "sCfpXLD4lS4j"
      },
      "outputs": [],
      "source": [
        "overall_dir = '/content/drive/MyDrive/Xenopus_male_female_data/overall'\n",
        "raw_data_dir = '/content/drive/MyDrive/Xenopus_male_female_data/2022_phonotaxis_natural'"
      ]
    },
    {
      "cell_type": "code",
      "execution_count": 21,
      "metadata": {
        "id": "M7lJDw8H4LQk"
      },
      "outputs": [],
      "source": [
        "def parse_folder_name(folder_name):\n",
        "  pair_number = folder_name.count('_')\n",
        "  pair_names = []\n",
        "  date = folder_name.split('_')[0]\n",
        "  for i in range(0,pair_number):\n",
        "    pair_name = folder_name.split('_')[i+1]\n",
        "    pair_names.append(pair_name)\n",
        "  #search for species\n",
        "  species_list = []\n",
        "  for i in pair_names:\n",
        "    female_ID = i.split('-')[1]\n",
        "    #species = np.array(df.loc[df['RFID_Female']==female_ID]['Species_Female'])[0]\n",
        "    species = df.loc[df['RFID_Female']==female_ID]['Species_Female'].values[0]\n",
        "    species_list.append(species)\n",
        "  assert(len(pair_names)==len(species_list))\n",
        "  return pair_number, pair_names, species_list"
      ]
    },
    {
      "cell_type": "code",
      "source": [
        "parse_folder_name('20220615_F829C-F837E_F8297-F8340_F82C0-F835F')"
      ],
      "metadata": {
        "colab": {
          "base_uri": "https://localhost:8080/"
        },
        "id": "kyH4u4nURj6Q",
        "outputId": "a997136d-2854-4a25-a56d-effce31fb795"
      },
      "execution_count": 22,
      "outputs": [
        {
          "output_type": "execute_result",
          "data": {
            "text/plain": [
              "(3,\n",
              " ['F829C-F837E', 'F8297-F8340', 'F82C0-F835F'],\n",
              " ['laevis', 'laevis', 'laevis'])"
            ]
          },
          "metadata": {},
          "execution_count": 22
        }
      ]
    },
    {
      "cell_type": "code",
      "execution_count": 23,
      "metadata": {
        "id": "sTFx_DFVfp8O"
      },
      "outputs": [],
      "source": [
        "def make_pair_dir(folder_name,overall_dir):\n",
        "  pair_number, pair_names, species_list = parse_folder_name(folder_name)\n",
        "  for i in range(0,pair_number):\n",
        "    current_species = species_list[i]\n",
        "    species_dir = os.path.join(overall_dir,current_species)\n",
        "    pair_name = pair_names[i]\n",
        "    pair_dir = os.path.join(species_dir,pair_name)\n",
        "    os.makedirs(pair_dir,exist_ok=True)"
      ]
    },
    {
      "cell_type": "code",
      "execution_count": 28,
      "metadata": {
        "id": "hu4heXCXgrpG"
      },
      "outputs": [],
      "source": [
        "for folder_name in os.listdir(raw_data_dir):\n",
        "  try:\n",
        "    #print(folder_name)\n",
        "    make_pair_dir(folder_name,overall_dir)\n",
        "  except Exception as e:\n",
        "    print(folder_name+\" Failed\")\n",
        "    print(e)"
      ]
    },
    {
      "cell_type": "code",
      "execution_count": 25,
      "metadata": {
        "id": "3BDQqUfuj3ps"
      },
      "outputs": [],
      "source": [
        "#create txt files containing links in individual's pair dir\n",
        "#folder_name is the folder containing the original raw data\n",
        "def create_txt_file(folder_name,df):\n",
        "  folder_dir = os.path.join(raw_data_dir,folder_name)\n",
        "  #loop through all audio files\n",
        "  for filename in os.listdir(folder_dir):\n",
        "    if (filename.endswith(\".wav\")and(not(filename.startswith('._')))\n",
        "    and(not(filename.startswith('01-F8211')))):\n",
        "      pair_ID = filename.split('-')[1]+'-'+filename.split('-')[2]\n",
        "      female_ID = filename.split('-')[2]\n",
        "      try:\n",
        "        species = df.loc[df['RFID_Female']==female_ID]['Species_Female'].values[0]\n",
        "        species_dir = os.path.join(overall_dir,species)\n",
        "        pair_dir = os.path.join(species_dir,pair_ID)\n",
        "        assert(os.path.exists(pair_dir))\n",
        "        #put the link to the audio file in a text file in the pair_dir\n",
        "        os.chdir(pair_dir)\n",
        "        #first check whether rapping/ticking\n",
        "        status = df.loc[df['Folder Name']==folder_name]['Separation Status'].values[0]\n",
        "        if(status=='Separate'):\n",
        "          file_rapping = open(pair_ID+\"_rapping.txt\",\"a\")\n",
        "          full_path = os.path.join(raw_data_dir,folder_name,filename)\n",
        "          assert(os.path.exists(full_path))\n",
        "          file_rapping.write(full_path+'\\n')\n",
        "          file_rapping.close()\n",
        "        elif(status=='Together'):\n",
        "          file_ticking = open(pair_ID+\"_ticking.txt\",\"a\")\n",
        "          full_path = os.path.join(raw_data_dir,folder_name,filename)\n",
        "          assert(os.path.exists(full_path))\n",
        "          file_ticking.write(full_path+'\\n')\n",
        "          file_ticking.close()\n",
        "      except(IndexError):\n",
        "        print(\"failed \"+filename)\n",
        "      except Exception as e:\n",
        "        print('Failed to process %s. Reason: %s' % (filename, e))"
      ]
    },
    {
      "cell_type": "code",
      "source": [
        "for folder_name in os.listdir(raw_data_dir):\n",
        "  create_txt_file(folder_name,df)"
      ],
      "metadata": {
        "id": "-nVjYr5iZB9i"
      },
      "execution_count": 29,
      "outputs": []
    },
    {
      "cell_type": "markdown",
      "metadata": {
        "id": "1vq8i8G8gc7Y"
      },
      "source": [
        "####Clear out functions"
      ]
    },
    {
      "cell_type": "code",
      "execution_count": 12,
      "metadata": {
        "id": "wn224dzlXUTy"
      },
      "outputs": [],
      "source": [
        "def clear_dir(folder):\n",
        "  for filename in os.listdir(folder):\n",
        "      file_path = os.path.join(folder, filename)\n",
        "      try:\n",
        "          if os.path.isfile(file_path) or os.path.islink(file_path):\n",
        "              os.unlink(file_path)\n",
        "          elif os.path.isdir(file_path):\n",
        "              shutil.rmtree(file_path)\n",
        "      except Exception as e:\n",
        "          print('Failed to delete %s. Reason: %s' % (file_path, e))\n",
        "\n",
        "def clear_four_species_dir():\n",
        "  clear_dir('/content/drive/MyDrive/Xenopus_male_female_data/overall/laevis')\n",
        "  clear_dir('/content/drive/MyDrive/Xenopus_male_female_data/overall/petersii')\n",
        "  clear_dir('/content/drive/MyDrive/Xenopus_male_female_data/overall/poweri')\n",
        "  clear_dir('/content/drive/MyDrive/Xenopus_male_female_data/overall/victorianus')\n",
        "  clear_dir('/content/drive/MyDrive/Xenopus_male_female_data/overall/malawi')"
      ]
    },
    {
      "cell_type": "code",
      "execution_count": 13,
      "metadata": {
        "id": "DOqk1FrtaFqH"
      },
      "outputs": [],
      "source": [
        "clear_four_species_dir()"
      ]
    },
    {
      "cell_type": "code",
      "source": [
        "clear_dir('/content/drive/MyDrive/Xenopus_male_female_data/laevis')\n",
        "clear_dir('/content/drive/MyDrive/Xenopus_male_female_data/malawi')\n",
        "clear_dir('/content/drive/MyDrive/Xenopus_male_female_data/petersii')\n",
        "clear_dir('/content/drive/MyDrive/Xenopus_male_female_data/poweri')\n",
        "clear_dir('/content/drive/MyDrive/Xenopus_male_female_data/victorianus')"
      ],
      "metadata": {
        "id": "yyTwItwlPLYM"
      },
      "execution_count": null,
      "outputs": []
    }
  ],
  "metadata": {
    "accelerator": "GPU",
    "colab": {
      "collapsed_sections": [],
      "machine_shape": "hm",
      "name": "File_Structure.ipynb",
      "provenance": [],
      "include_colab_link": true
    },
    "gpuClass": "standard",
    "kernelspec": {
      "display_name": "Python 3",
      "name": "python3"
    },
    "language_info": {
      "name": "python"
    }
  },
  "nbformat": 4,
  "nbformat_minor": 0
}