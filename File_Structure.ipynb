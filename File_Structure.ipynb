{
  "cells": [
    {
      "cell_type": "markdown",
      "metadata": {
        "id": "view-in-github",
        "colab_type": "text"
      },
      "source": [
        "<a href=\"https://colab.research.google.com/github/jamespan1118/Xenopus_signal_processing/blob/main/File_Structure.ipynb\" target=\"_parent\"><img src=\"https://colab.research.google.com/assets/colab-badge.svg\" alt=\"Open In Colab\"/></a>"
      ]
    },
    {
      "cell_type": "markdown",
      "metadata": {
        "id": "AClK54I94O4m"
      },
      "source": [
        "####Creating the folder structures from raw data"
      ]
    },
    {
      "cell_type": "code",
      "execution_count": null,
      "metadata": {
        "colab": {
          "base_uri": "https://localhost:8080/"
        },
        "id": "mOZif0VBG9Tl",
        "outputId": "e07abdb2-4f60-4bb5-d195-44a45dadbe67"
      },
      "outputs": [
        {
          "name": "stdout",
          "output_type": "stream",
          "text": [
            "Looking in indexes: https://pypi.org/simple, https://us-python.pkg.dev/colab-wheels/public/simple/\n",
            "Collecting pydub\n",
            "  Downloading pydub-0.25.1-py2.py3-none-any.whl (32 kB)\n",
            "Installing collected packages: pydub\n",
            "Successfully installed pydub-0.25.1\n"
          ]
        }
      ],
      "source": [
        "!pip install pydub"
      ]
    },
    {
      "cell_type": "code",
      "execution_count": null,
      "metadata": {
        "id": "EnG-FISTOl2H"
      },
      "outputs": [],
      "source": [
        "import librosa\n",
        "from librosa import display\n",
        "import pandas as pd\n",
        "import numpy as np\n",
        "import os\n",
        "import shutil\n",
        "from pydub import AudioSegment \n",
        "from pydub.utils import make_chunks \n",
        "from scipy.io.wavfile import write\n",
        "import warnings"
      ]
    },
    {
      "cell_type": "code",
      "execution_count": null,
      "metadata": {
        "colab": {
          "base_uri": "https://localhost:8080/"
        },
        "id": "XzehOdQBO834",
        "outputId": "7ab26fed-7ec9-4ca6-9d6a-622661e18a61"
      },
      "outputs": [
        {
          "name": "stderr",
          "output_type": "stream",
          "text": [
            "WARNING:google.auth._default:No project ID could be determined. Consider running `gcloud config set project` or setting the GOOGLE_CLOUD_PROJECT environment variable\n"
          ]
        }
      ],
      "source": [
        "from google.colab import auth\n",
        "auth.authenticate_user()\n",
        "\n",
        "import gspread\n",
        "from google.auth import default\n",
        "creds, _ = default()\n",
        "\n",
        "gc = gspread.authorize(creds)"
      ]
    },
    {
      "cell_type": "code",
      "execution_count": null,
      "metadata": {
        "colab": {
          "base_uri": "https://localhost:8080/",
          "height": 652
        },
        "id": "USLR7RsdU2NU",
        "outputId": "de8ede6e-7e54-44f8-e2d1-8fbab1775660"
      },
      "outputs": [
        {
          "data": {
            "text/html": [
              "\n",
              "  <div id=\"df-0b6d7bf0-7ed2-4870-ba9d-00da46d8cc82\">\n",
              "    <div class=\"colab-df-container\">\n",
              "      <div>\n",
              "<style scoped>\n",
              "    .dataframe tbody tr th:only-of-type {\n",
              "        vertical-align: middle;\n",
              "    }\n",
              "\n",
              "    .dataframe tbody tr th {\n",
              "        vertical-align: top;\n",
              "    }\n",
              "\n",
              "    .dataframe thead th {\n",
              "        text-align: right;\n",
              "    }\n",
              "</style>\n",
              "<table border=\"1\" class=\"dataframe\">\n",
              "  <thead>\n",
              "    <tr style=\"text-align: right;\">\n",
              "      <th></th>\n",
              "      <th>Date</th>\n",
              "      <th>Separation Status</th>\n",
              "      <th>Recording_Tank</th>\n",
              "      <th>Hydraphone</th>\n",
              "      <th>Folder Name</th>\n",
              "      <th>Tank_Number_male</th>\n",
              "      <th>RFID_male</th>\n",
              "      <th>Species_male</th>\n",
              "      <th>Mass_male</th>\n",
              "      <th>hCG_injected_male</th>\n",
              "      <th>Tank_Number_Female</th>\n",
              "      <th>RFID_Female</th>\n",
              "      <th>Species_Female</th>\n",
              "      <th>Mass_Female</th>\n",
              "      <th>hCG_injected_Female</th>\n",
              "      <th>Comment</th>\n",
              "      <th>Frog Camera</th>\n",
              "    </tr>\n",
              "  </thead>\n",
              "  <tbody>\n",
              "    <tr>\n",
              "      <th>1</th>\n",
              "      <td>06/14/22</td>\n",
              "      <td>Separate</td>\n",
              "      <td>1</td>\n",
              "      <td>1</td>\n",
              "      <td>20220614_F827E-F829C_F8340-F8297_F835F-F82C0</td>\n",
              "      <td></td>\n",
              "      <td>F829C</td>\n",
              "      <td>laevis</td>\n",
              "      <td>50.1</td>\n",
              "      <td>0.2505</td>\n",
              "      <td>31</td>\n",
              "      <td>F837E</td>\n",
              "      <td>laevis</td>\n",
              "      <td>130.3</td>\n",
              "      <td>0.6515</td>\n",
              "      <td>only recorded for 55 minutes, terminated unexp...</td>\n",
              "      <td></td>\n",
              "    </tr>\n",
              "    <tr>\n",
              "      <th>2</th>\n",
              "      <td>06/14/22</td>\n",
              "      <td>Separate</td>\n",
              "      <td>2</td>\n",
              "      <td>2</td>\n",
              "      <td>20220614_F827E-F829C_F8340-F8297_F835F-F82C0</td>\n",
              "      <td></td>\n",
              "      <td>F8297</td>\n",
              "      <td>laevis</td>\n",
              "      <td>46</td>\n",
              "      <td>0.23</td>\n",
              "      <td>31</td>\n",
              "      <td>F8340</td>\n",
              "      <td>laevis</td>\n",
              "      <td>98.7</td>\n",
              "      <td>0.4935</td>\n",
              "      <td>only recorded for 55 minutes, terminated unexp...</td>\n",
              "      <td></td>\n",
              "    </tr>\n",
              "    <tr>\n",
              "      <th>3</th>\n",
              "      <td>06/14/22</td>\n",
              "      <td>Separate</td>\n",
              "      <td>3</td>\n",
              "      <td>3</td>\n",
              "      <td>20220614_F827E-F829C_F8340-F8297_F835F-F82C0</td>\n",
              "      <td></td>\n",
              "      <td>F82C0</td>\n",
              "      <td>laevis</td>\n",
              "      <td>56.3</td>\n",
              "      <td>0.2815</td>\n",
              "      <td>31</td>\n",
              "      <td>F835F</td>\n",
              "      <td>laevis</td>\n",
              "      <td>102.7</td>\n",
              "      <td>0.5135</td>\n",
              "      <td>only recorded for 55 minutes, terminated unexp...</td>\n",
              "      <td></td>\n",
              "    </tr>\n",
              "    <tr>\n",
              "      <th>4</th>\n",
              "      <td>06/15/22</td>\n",
              "      <td>Together</td>\n",
              "      <td>1</td>\n",
              "      <td>1</td>\n",
              "      <td>20220615_F827E-F829C_F8340-F8297_F835F-F82C0</td>\n",
              "      <td></td>\n",
              "      <td>F829C</td>\n",
              "      <td>laevis</td>\n",
              "      <td>50.1</td>\n",
              "      <td>0.2505</td>\n",
              "      <td>31</td>\n",
              "      <td>F837E</td>\n",
              "      <td>laevis</td>\n",
              "      <td>130.3</td>\n",
              "      <td>0.6515</td>\n",
              "      <td>ticking found</td>\n",
              "      <td></td>\n",
              "    </tr>\n",
              "    <tr>\n",
              "      <th>5</th>\n",
              "      <td>06/15/22</td>\n",
              "      <td>Together</td>\n",
              "      <td>2</td>\n",
              "      <td>2</td>\n",
              "      <td>20220615_F827E-F829C_F8340-F8297_F835F-F82C0</td>\n",
              "      <td></td>\n",
              "      <td>F8297</td>\n",
              "      <td>laevis</td>\n",
              "      <td>46</td>\n",
              "      <td>0.23</td>\n",
              "      <td>31</td>\n",
              "      <td>F8340</td>\n",
              "      <td>laevis</td>\n",
              "      <td>98.7</td>\n",
              "      <td>0.4935</td>\n",
              "      <td>no ticking</td>\n",
              "      <td></td>\n",
              "    </tr>\n",
              "  </tbody>\n",
              "</table>\n",
              "</div>\n",
              "      <button class=\"colab-df-convert\" onclick=\"convertToInteractive('df-0b6d7bf0-7ed2-4870-ba9d-00da46d8cc82')\"\n",
              "              title=\"Convert this dataframe to an interactive table.\"\n",
              "              style=\"display:none;\">\n",
              "        \n",
              "  <svg xmlns=\"http://www.w3.org/2000/svg\" height=\"24px\"viewBox=\"0 0 24 24\"\n",
              "       width=\"24px\">\n",
              "    <path d=\"M0 0h24v24H0V0z\" fill=\"none\"/>\n",
              "    <path d=\"M18.56 5.44l.94 2.06.94-2.06 2.06-.94-2.06-.94-.94-2.06-.94 2.06-2.06.94zm-11 1L8.5 8.5l.94-2.06 2.06-.94-2.06-.94L8.5 2.5l-.94 2.06-2.06.94zm10 10l.94 2.06.94-2.06 2.06-.94-2.06-.94-.94-2.06-.94 2.06-2.06.94z\"/><path d=\"M17.41 7.96l-1.37-1.37c-.4-.4-.92-.59-1.43-.59-.52 0-1.04.2-1.43.59L10.3 9.45l-7.72 7.72c-.78.78-.78 2.05 0 2.83L4 21.41c.39.39.9.59 1.41.59.51 0 1.02-.2 1.41-.59l7.78-7.78 2.81-2.81c.8-.78.8-2.07 0-2.86zM5.41 20L4 18.59l7.72-7.72 1.47 1.35L5.41 20z\"/>\n",
              "  </svg>\n",
              "      </button>\n",
              "      \n",
              "  <style>\n",
              "    .colab-df-container {\n",
              "      display:flex;\n",
              "      flex-wrap:wrap;\n",
              "      gap: 12px;\n",
              "    }\n",
              "\n",
              "    .colab-df-convert {\n",
              "      background-color: #E8F0FE;\n",
              "      border: none;\n",
              "      border-radius: 50%;\n",
              "      cursor: pointer;\n",
              "      display: none;\n",
              "      fill: #1967D2;\n",
              "      height: 32px;\n",
              "      padding: 0 0 0 0;\n",
              "      width: 32px;\n",
              "    }\n",
              "\n",
              "    .colab-df-convert:hover {\n",
              "      background-color: #E2EBFA;\n",
              "      box-shadow: 0px 1px 2px rgba(60, 64, 67, 0.3), 0px 1px 3px 1px rgba(60, 64, 67, 0.15);\n",
              "      fill: #174EA6;\n",
              "    }\n",
              "\n",
              "    [theme=dark] .colab-df-convert {\n",
              "      background-color: #3B4455;\n",
              "      fill: #D2E3FC;\n",
              "    }\n",
              "\n",
              "    [theme=dark] .colab-df-convert:hover {\n",
              "      background-color: #434B5C;\n",
              "      box-shadow: 0px 1px 3px 1px rgba(0, 0, 0, 0.15);\n",
              "      filter: drop-shadow(0px 1px 2px rgba(0, 0, 0, 0.3));\n",
              "      fill: #FFFFFF;\n",
              "    }\n",
              "  </style>\n",
              "\n",
              "      <script>\n",
              "        const buttonEl =\n",
              "          document.querySelector('#df-0b6d7bf0-7ed2-4870-ba9d-00da46d8cc82 button.colab-df-convert');\n",
              "        buttonEl.style.display =\n",
              "          google.colab.kernel.accessAllowed ? 'block' : 'none';\n",
              "\n",
              "        async function convertToInteractive(key) {\n",
              "          const element = document.querySelector('#df-0b6d7bf0-7ed2-4870-ba9d-00da46d8cc82');\n",
              "          const dataTable =\n",
              "            await google.colab.kernel.invokeFunction('convertToInteractive',\n",
              "                                                     [key], {});\n",
              "          if (!dataTable) return;\n",
              "\n",
              "          const docLinkHtml = 'Like what you see? Visit the ' +\n",
              "            '<a target=\"_blank\" href=https://colab.research.google.com/notebooks/data_table.ipynb>data table notebook</a>'\n",
              "            + ' to learn more about interactive tables.';\n",
              "          element.innerHTML = '';\n",
              "          dataTable['output_type'] = 'display_data';\n",
              "          await google.colab.output.renderOutput(dataTable, element);\n",
              "          const docLink = document.createElement('div');\n",
              "          docLink.innerHTML = docLinkHtml;\n",
              "          element.appendChild(docLink);\n",
              "        }\n",
              "      </script>\n",
              "    </div>\n",
              "  </div>\n",
              "  "
            ],
            "text/plain": [
              "0      Date Separation Status Recording_Tank Hydraphone  \\\n",
              "1  06/14/22          Separate              1          1   \n",
              "2  06/14/22          Separate              2          2   \n",
              "3  06/14/22          Separate              3          3   \n",
              "4  06/15/22          Together              1          1   \n",
              "5  06/15/22          Together              2          2   \n",
              "\n",
              "0                                   Folder Name Tank_Number_male RFID_male  \\\n",
              "1  20220614_F827E-F829C_F8340-F8297_F835F-F82C0                      F829C   \n",
              "2  20220614_F827E-F829C_F8340-F8297_F835F-F82C0                      F8297   \n",
              "3  20220614_F827E-F829C_F8340-F8297_F835F-F82C0                      F82C0   \n",
              "4  20220615_F827E-F829C_F8340-F8297_F835F-F82C0                      F829C   \n",
              "5  20220615_F827E-F829C_F8340-F8297_F835F-F82C0                      F8297   \n",
              "\n",
              "0 Species_male Mass_male hCG_injected_male Tank_Number_Female RFID_Female  \\\n",
              "1       laevis      50.1            0.2505                 31       F837E   \n",
              "2       laevis        46              0.23                 31       F8340   \n",
              "3       laevis      56.3            0.2815                 31       F835F   \n",
              "4       laevis      50.1            0.2505                 31       F837E   \n",
              "5       laevis        46              0.23                 31       F8340   \n",
              "\n",
              "0 Species_Female Mass_Female hCG_injected_Female  \\\n",
              "1         laevis       130.3              0.6515   \n",
              "2         laevis        98.7              0.4935   \n",
              "3         laevis       102.7              0.5135   \n",
              "4         laevis       130.3              0.6515   \n",
              "5         laevis        98.7              0.4935   \n",
              "\n",
              "0                                            Comment Frog Camera  \n",
              "1  only recorded for 55 minutes, terminated unexp...              \n",
              "2  only recorded for 55 minutes, terminated unexp...              \n",
              "3  only recorded for 55 minutes, terminated unexp...              \n",
              "4                                      ticking found              \n",
              "5                                         no ticking              "
            ]
          },
          "execution_count": 5,
          "metadata": {},
          "output_type": "execute_result"
        }
      ],
      "source": [
        "worksheet = gc.open('Male Female Assay Log').sheet1\n",
        "\n",
        "# get_all_values gives a list of rows.\n",
        "rows = worksheet.get_all_values()\n",
        "\n",
        "import pandas as pd\n",
        "df = pd.DataFrame.from_records(rows)\n",
        "df.columns = df.iloc[0] \n",
        "df = df[1:]\n",
        "df.head()"
      ]
    },
    {
      "cell_type": "code",
      "execution_count": null,
      "metadata": {
        "id": "sCfpXLD4lS4j"
      },
      "outputs": [],
      "source": [
        "overall_dir = os.path.dirname(os.path.realpath('/content/drive/MyDrive/Xenopus_male_female_data/overall/Male Female Assay Log.gsheet'))\n",
        "raw_data_dir = '/content/drive/MyDrive/Xenopus_male_female_data/2022_phonotaxis_natural'"
      ]
    },
    {
      "cell_type": "code",
      "execution_count": null,
      "metadata": {
        "id": "M7lJDw8H4LQk"
      },
      "outputs": [],
      "source": [
        "def parse_folder_name(folder_name):\n",
        "  pair_number = folder_name.count('_')\n",
        "  pair_names = []\n",
        "  date = folder_name.split('_')[0]\n",
        "  for i in range(0,pair_number):\n",
        "    pair_name = folder_name.split('_')[i+1]\n",
        "    pair_names.append(pair_name)\n",
        "  #search for species\n",
        "  species_list = []\n",
        "  for i in pair_names:\n",
        "    female_ID = i.split('-')[1]\n",
        "    #species = np.array(df.loc[df['RFID_Female']==female_ID]['Species_Female'])[0]\n",
        "    species = df.loc[df['RFID_Female']==female_ID]['Species_Female'].values[0]\n",
        "    species_list.append(species)\n",
        "  assert(len(pair_names)==len(species_list))\n",
        "  return pair_number, pair_names, species_list"
      ]
    },
    {
      "cell_type": "code",
      "execution_count": null,
      "metadata": {
        "colab": {
          "base_uri": "https://localhost:8080/"
        },
        "id": "3WvMgJo4OV17",
        "outputId": "d166290a-939f-4155-d534-ed6422a97547"
      },
      "outputs": [
        {
          "name": "stdout",
          "output_type": "stream",
          "text": [
            "2\n",
            "2\n",
            "['malawi', 'malawi']\n"
          ]
        }
      ],
      "source": [
        "number,names,species_list = parse_folder_name('20220802_AD82B-AD7E3_AD804-AD827')\n",
        "print(number)\n",
        "print(len(names))\n",
        "print(species_list)"
      ]
    },
    {
      "cell_type": "code",
      "execution_count": null,
      "metadata": {
        "id": "sTFx_DFVfp8O"
      },
      "outputs": [],
      "source": [
        "def make_pair_dir(folder_name,overall_dir):\n",
        "  pair_number, pair_names, species_list = parse_folder_name(folder_name)\n",
        "  for i in range(0,pair_number):\n",
        "    current_species = species_list[i]\n",
        "    species_dir = os.path.join(overall_dir,current_species)\n",
        "    pair_name = pair_names[i]\n",
        "    pair_dir = os.path.join(species_dir,pair_name)\n",
        "    if not os.path.exists(pair_dir):\n",
        "      os.mkdir(pair_dir)"
      ]
    },
    {
      "cell_type": "code",
      "execution_count": null,
      "metadata": {
        "id": "hu4heXCXgrpG"
      },
      "outputs": [],
      "source": [
        "make_pair_dir('20220802_AD82B-AD7E3_AD804-AD827',overall_dir)"
      ]
    },
    {
      "cell_type": "code",
      "execution_count": null,
      "metadata": {
        "id": "3BDQqUfuj3ps"
      },
      "outputs": [],
      "source": [
        "#create txt files containing links in individual's pair dir\n",
        "#folder_name is the folder containing the original raw data\n",
        "def create_txt_file(folder_name,df):\n",
        "  folder_dir = os.path.join(raw_data_dir,folder_name)\n",
        "  #loop through all audio files\n",
        "  for filename in os.listdir(folder_dir):\n",
        "    if filename.endswith(\".wav\"):\n",
        "      pair_ID = filename.split('-')[1]+'-'+filename.split('-')[2]\n",
        "      female_ID = filename.split('-')[2]\n",
        "      try:\n",
        "        species = df.loc[df['RFID_Female']==female_ID]['Species_Female'].values[0]\n",
        "        species_dir = os.path.join(overall_dir,species)\n",
        "        pair_dir = os.path.join(species_dir,pair_ID)\n",
        "        assert(os.path.exists(pair_dir))\n",
        "        #put the link to the audio file in a text file in the pair_dir\n",
        "        os.chdir(pair_dir)\n",
        "        #first check whether rapping/ticking\n",
        "        status = df.loc[df['RFID_Female']==female_ID]['Separation Status'].values[0]\n",
        "        if(status=='Separate'):\n",
        "          file_rapping = open(pair_ID+\"_rapping.txt\",\"a\")\n",
        "          full_path = os.path.join(raw_data_dir,folder_name,filename)\n",
        "          assert(os.path.exists(full_path))\n",
        "          file_rapping.write(full_path+'\\n')\n",
        "          file_rapping.close()\n",
        "        else:\n",
        "          file_ticking = open(pair_ID+\"_ticking.txt\",\"a\")\n",
        "          full_path = os.path.join(raw_data_dir,folder_name,filename)\n",
        "          assert(os.path.exists(full_path))\n",
        "          file_ticking.write(full_path+'\\n')\n",
        "          file_ticking.close()\n",
        "      except(IndexError):\n",
        "        pass\n",
        "      except Exception as e:\n",
        "          print('Failed to process %s. Reason: %s' % (filename, e))"
      ]
    },
    {
      "cell_type": "code",
      "execution_count": null,
      "metadata": {
        "id": "WVVdqLkx3Xt5"
      },
      "outputs": [],
      "source": [
        "create_txt_file('20220802_AD82B-AD7E3_AD804-AD827',df)"
      ]
    },
    {
      "cell_type": "markdown",
      "metadata": {
        "id": "qZKcQKtDeQC9"
      },
      "source": [
        "####Iterate through the audio files to produce 1 hour chunks"
      ]
    },
    {
      "cell_type": "code",
      "execution_count": null,
      "metadata": {
        "id": "RArCJCVTdZbd"
      },
      "outputs": [],
      "source": [
        "def chunking_pair(pair_dir):\n",
        "  duets_dir = os.path.join(pair_dir,\"duets\")\n",
        "  os.makedirs(duets_dir, exist_ok=True)\n",
        "\n",
        "  chunk_dir = os.path.join(duets_dir,\"chunks\")\n",
        "  os.makedirs(chunk_dir, exist_ok=True)\n",
        "\n",
        "  try:\n",
        "    rapping_dir = os.path.join(chunk_dir,\"rapping\")\n",
        "    rapping_file_name = os.path.basename(pair_dir)+'_rapping.txt'\n",
        "    rapping_file_path = os.path.join(pair_dir,rapping_file_name)\n",
        "    read_txt_and_chunk(rapping_file_path,rapping_dir)\n",
        "  except Exception as e:\n",
        "    print('Rapping chunking fails')\n",
        "    print(e)\n",
        "\n",
        "  try:\n",
        "    ticking_dir = os.path.join(chunk_dir,\"ticking\")\n",
        "    ticking_file_name = os.path.basename(pair_dir)+'_ticking.txt'\n",
        "    ticking_file_path = os.path.join(pair_dir,ticking_file_name)\n",
        "    read_txt_and_chunk(ticking_file_path,ticking_dir)\n",
        "  except Exception as e:\n",
        "    print('Ticking chunking fails')\n",
        "    print(e)\n",
        "\n",
        "def read_txt_and_chunk(txt_file_path,output_path):\n",
        "  file1 = open(txt_file_path, 'r')\n",
        "  Lines = file1.readlines()\n",
        "  list_line=[]\n",
        "  for line in Lines:\n",
        "    list_line.append(line[:-1])\n",
        "  for i in list_line:\n",
        "    chunking_file(i,output_path)\n",
        "\n",
        "def chunking_file(file_path,output_path):\n",
        "  file_name = os.path.basename(file_path)\n",
        "  file_name = os.path.splitext(file_name)[0]\n",
        "  '''\n",
        "  myaudio = AudioSegment.from_file(file_path, \"wav\") \n",
        "  chunk_length_ms = 1000*60*60 # pydub calculates in millisec \n",
        "  chunks = make_chunks(myaudio,chunk_length_ms) #Make chunks of one hour\n",
        "  for i, chunk in enumerate(chunks): \n",
        "      chunk_name = file_name+\"{0}.wav\".format(i) \n",
        "      print (\"exporting\", chunk_name)\n",
        "      out = os.path.join(output_path,chunk_name)\n",
        "      chunk.export(out, format=\"wav\")\n",
        "  '''\n",
        "  i=0\n",
        "  while(1):\n",
        "    samples,sr=librosa.load(file_path,offset=i,duration=3600)\n",
        "    if (len(samples)==0):\n",
        "      break\n",
        "    i=i+3600 #jump to the next hour\n",
        "    chunk_name = file_name+\"{0}.wav\".format(i%3600+1) \n",
        "    out = os.path.join(output_path,chunk_name)\n",
        "    librosa.output.write_wav(out, samples, sr)\n",
        "    print (\"exporting\", chunk_name)"
      ]
    },
    {
      "cell_type": "code",
      "execution_count": null,
      "metadata": {
        "id": "WFiNrGt7lwZY"
      },
      "outputs": [],
      "source": [
        "file_path = '/content/drive/MyDrive/Xenopus_male_female_data/2022_phonotaxis_natural/20220802_AD82B-AD7E3_AD804-AD827/03-AD804-AD827-220802_1902.wav'\n",
        "output_path = '/content/drive/MyDrive/Xenopus_male_female_data/overall/malawi/AD804-AD827/duets/chunks'\n",
        "assert(os.path.exists(file_path))\n",
        "assert(os.path.exists(output_path))\n",
        "#chunking_file(file_path,output_path)"
      ]
    },
    {
      "cell_type": "code",
      "execution_count": null,
      "metadata": {
        "colab": {
          "background_save": true,
          "base_uri": "https://localhost:8080/"
        },
        "id": "NOlF4-xG61Wz",
        "outputId": "ec5a37ed-f317-4311-f86a-c2451a8861af"
      },
      "outputs": [
        {
          "name": "stdout",
          "output_type": "stream",
          "text": [
            "exporting 03-AD804-AD827-220802_1902_1\n",
            "exporting 03-AD804-AD827-220802_1902_1\n",
            "exporting 03-AD804-AD827-220802_1902_1\n",
            "exporting 03-AD804-AD827-220802_1902_1\n",
            "exporting 03-AD804-AD827-220802_1902_1\n",
            "exporting 03-AD804-AD827-220802_1902_1\n",
            "exporting 03-AD804-AD827-220802_1902_1\n",
            "exporting 03-AD804-AD827-220802_1902_1\n",
            "exporting 03-AD804-AD827-220802_1902_1\n",
            "exporting 03-AD804-AD827-220802_1902_1\n",
            "exporting 03-AD804-AD827-220802_1902_1\n",
            "exporting 03-AD804-AD827-220802_1902_1\n",
            "exporting 03-AD804-AD827-220802_1902_1\n",
            "exporting 03-AD804-AD827-220802_1902_1\n",
            "exporting 03-AD804-AD827-220802_1902_1\n",
            "exporting 03-AD804-AD827-220802_1902_1\n",
            "exporting 03-AD804-AD827-220802_1902_1\n",
            "exporting 03-AD804-AD827-220802_1902_1\n",
            "exporting 03-AD804-AD827-220802_1902_1\n",
            "exporting 03-AD804-AD827-220802_1902_1\n",
            "exporting 03-AD804-AD827-220802_1902_1\n",
            "exporting 03-AD804-AD827-220802_1902_1\n",
            "exporting 03-AD804-AD827-220802_1902_1\n",
            "exporting 03-AD804-AD827-220802_1902_1\n",
            "exporting 03-AD804-AD827-220802_1902_1\n",
            "exporting 03-AD804-AD827-220802_1902_1\n",
            "exporting 03-AD804-AD827-220802_1902_1\n",
            "exporting 03-AD804-AD827-220802_1902_1\n",
            "exporting 03-AD804-AD827-220802_1902_1\n",
            "exporting 03-AD804-AD827-220802_1902_1\n",
            "exporting 03-AD804-AD827-220802_1902_1\n",
            "exporting 03-AD804-AD827-220802_1902_1\n",
            "exporting 03-AD804-AD827-220802_1902_1\n",
            "exporting 03-AD804-AD827-220802_1902_1\n",
            "exporting 03-AD804-AD827-220802_1902_1\n",
            "exporting 03-AD804-AD827-220802_1902_1\n",
            "exporting 03-AD804-AD827-220802_1902_1\n",
            "exporting 03-AD804-AD827-220802_1902_1\n",
            "exporting 03-AD804-AD827-220802_1902_1\n",
            "exporting 03-AD804-AD827-220802_1902_1\n",
            "exporting 03-AD804-AD827-220802_1902_1\n",
            "exporting 03-AD804-AD827-220802_1902_1\n",
            "exporting 03-AD804-AD827-220802_1902_1\n",
            "exporting 03-AD804-AD827-220802_1902_1\n",
            "exporting 03-AD804-AD827-220802_1902_1\n",
            "exporting 03-AD804-AD827-220802_1902_1\n",
            "exporting 03-AD804-AD827-220802_1902_1\n",
            "exporting 03-AD804-AD827-220802_1902_1\n",
            "exporting 03-AD804-AD827-220802_1902_1\n",
            "exporting 03-AD804-AD827-220802_1902_1\n",
            "exporting 03-AD804-AD827-220802_1902_1\n",
            "exporting 03-AD804-AD827-220802_1902_1\n"
          ]
        }
      ],
      "source": [
        "file_name = os.path.basename(file_path)\n",
        "file_name = os.path.splitext(file_name)[0]\n",
        "i=0\n",
        "duration = 1200\n",
        "\n",
        "warnings.filterwarnings(\"ignore\")\n",
        "while(1):\n",
        "  try:\n",
        "    samples,sr=librosa.load(file_path,sr=44100,offset=i,duration=duration)\n",
        "    chunk_name = file_name+\"_\"+str(i%duration+1) \n",
        "    out = os.path.join(output_path,chunk_name)\n",
        "    #librosa.output.write_wav(out, samples, sr)\n",
        "    write(out,sr,samples)\n",
        "    print (\"exporting\", chunk_name)\n",
        "    i=i+duration #jump to the next hour\n",
        "  except:\n",
        "    break"
      ]
    },
    {
      "cell_type": "code",
      "execution_count": null,
      "metadata": {
        "id": "OSpIuBYTIUFC"
      },
      "outputs": [],
      "source": [
        "!cd /content/drive/MyDrive/Xenopus_male_female_data/overall/malawi/AD804-AD827/duets/chunks"
      ]
    },
    {
      "cell_type": "code",
      "execution_count": null,
      "metadata": {
        "colab": {
          "base_uri": "https://localhost:8080/"
        },
        "id": "r80HeDskIWkI",
        "outputId": "3e2bbb10-4e20-46ef-bee5-2f8d6e23fdb5"
      },
      "outputs": [
        {
          "name": "stdout",
          "output_type": "stream",
          "text": [
            "AD82B-AD7E3_rapping.txt\n"
          ]
        }
      ],
      "source": [
        "!ls"
      ]
    },
    {
      "cell_type": "markdown",
      "metadata": {
        "id": "1vq8i8G8gc7Y"
      },
      "source": [
        "####Clear out functions"
      ]
    },
    {
      "cell_type": "code",
      "execution_count": null,
      "metadata": {
        "id": "wn224dzlXUTy"
      },
      "outputs": [],
      "source": [
        "def clear_dir(folder):\n",
        "  for filename in os.listdir(folder):\n",
        "      file_path = os.path.join(folder, filename)\n",
        "      try:\n",
        "          if os.path.isfile(file_path) or os.path.islink(file_path):\n",
        "              os.unlink(file_path)\n",
        "          elif os.path.isdir(file_path):\n",
        "              shutil.rmtree(file_path)\n",
        "      except Exception as e:\n",
        "          print('Failed to delete %s. Reason: %s' % (file_path, e))\n",
        "\n",
        "def clear_four_species_dir():\n",
        "  clear_dir('/content/drive/MyDrive/Xenopus_male_female_data/overall/laevis')\n",
        "  clear_dir('/content/drive/MyDrive/Xenopus_male_female_data/overall/petersii')\n",
        "  clear_dir('/content/drive/MyDrive/Xenopus_male_female_data/overall/poweri')\n",
        "  clear_dir('/content/drive/MyDrive/Xenopus_male_female_data/overall/victorianus')\n",
        "  clear_dir('/content/drive/MyDrive/Xenopus_male_female_data/overall/malawi')"
      ]
    },
    {
      "cell_type": "code",
      "execution_count": null,
      "metadata": {
        "id": "DOqk1FrtaFqH"
      },
      "outputs": [],
      "source": [
        "clear_four_species_dir()"
      ]
    }
  ],
  "metadata": {
    "accelerator": "GPU",
    "colab": {
      "collapsed_sections": [],
      "machine_shape": "hm",
      "name": "File_Structure.ipynb",
      "provenance": [],
      "mount_file_id": "1OkNrzGfdfAMOlqY0WqUZ1W6OYerMLUeS",
      "authorship_tag": "ABX9TyOJhWY/qywo9JBGXaqgAJpK",
      "include_colab_link": true
    },
    "gpuClass": "standard",
    "kernelspec": {
      "display_name": "Python 3",
      "name": "python3"
    },
    "language_info": {
      "name": "python"
    }
  },
  "nbformat": 4,
  "nbformat_minor": 0
}