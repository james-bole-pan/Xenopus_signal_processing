{
  "nbformat": 4,
  "nbformat_minor": 0,
  "metadata": {
    "colab": {
      "name": "Side_Objective_IPI_female_bimodal_separation.ipynb",
      "provenance": [],
      "authorship_tag": "ABX9TyNOjxhjeuVz3p6++3p9uf7I",
      "include_colab_link": true
    },
    "kernelspec": {
      "name": "python3",
      "display_name": "Python 3"
    },
    "language_info": {
      "name": "python"
    }
  },
  "cells": [
    {
      "cell_type": "markdown",
      "metadata": {
        "id": "view-in-github",
        "colab_type": "text"
      },
      "source": [
        "<a href=\"https://colab.research.google.com/github/jamespan1118/Xenopus_signal_processing/blob/main/Side_Objective_IPI_female_bimodal_separation.ipynb\" target=\"_parent\"><img src=\"https://colab.research.google.com/assets/colab-badge.svg\" alt=\"Open In Colab\"/></a>"
      ]
    },
    {
      "cell_type": "markdown",
      "source": [
        "##Identify medians in bimodal distributions"
      ],
      "metadata": {
        "id": "gMcSeAWoTWC8"
      }
    },
    {
      "cell_type": "markdown",
      "source": [
        "This notebook follows Side_Objective_IPI_pipeline. We have confirmed that in some female individuals IPI distribution is indeed bimodal. We plan on generating the density plot in those individuals, find the trough in the plot, and separate the bimodal distribution to find the medians in both distributions. "
      ],
      "metadata": {
        "id": "jT-0GQ7lSk_j"
      }
    },
    {
      "cell_type": "markdown",
      "source": [
        "Bimodal individuals:\n",
        "- One in petersii\n",
        "- Two in poweri"
      ],
      "metadata": {
        "id": "sNSRhgYeTuX6"
      }
    },
    {
      "cell_type": "code",
      "source": [
        "import os\n",
        "import librosa\n",
        "import time\n",
        "import seaborn as sns\n",
        "from librosa import display\n",
        "from IPython.display import Audio\n",
        "import matplotlib.pyplot as plt\n",
        "import numpy as np\n",
        "import scipy\n",
        "import csv\n",
        "import random\n",
        "from scipy import fftpack, signal\n",
        "from scipy.ndimage import gaussian_filter1d\n",
        "from scipy.io.wavfile import write\n",
        "from scipy.fft import fft, fftfreq, rfft, rfftfreq, irfft\n",
        "import pandas as pd\n",
        "from scipy.stats import norm, gaussian_kde"
      ],
      "metadata": {
        "id": "e94Z2vIsUdMh"
      },
      "execution_count": 37,
      "outputs": []
    },
    {
      "cell_type": "markdown",
      "source": [
        "###Female-male Separation Pipeline"
      ],
      "metadata": {
        "id": "ivlHbVSJVFfo"
      }
    },
    {
      "cell_type": "code",
      "source": [
        "def clear_out(lower,upper,data,points_per_freq):\n",
        "  target_idx_noise_lower = int(points_per_freq * lower)\n",
        "  target_idx_noise_upper = int(points_per_freq * upper)\n",
        "  data[: target_idx_noise_lower] = 0\n",
        "  data[target_idx_noise_upper:] = 0\n",
        "  \n",
        "def fourier_transform(samples, sampling_rate):\n",
        "  #fourier transform on audio file\n",
        "  yf = rfft(samples)\n",
        "  xf = rfftfreq(len(samples), 1 / sampling_rate)\n",
        "  return xf,yf\n",
        "\n",
        "#smooth the curve\n",
        "def smooth_curve(randomlist_yf,sigma=40):\n",
        "  #We get a smoother curve upon increasing the value of sigma.\n",
        "  y_smoothed = gaussian_filter1d(randomlist_yf, sigma)\n",
        "  peaks, _  = scipy.signal.find_peaks(y_smoothed)\n",
        "  troughs, _  = scipy.signal.find_peaks(-y_smoothed)\n",
        "  return peaks,troughs,y_smoothed\n",
        "\n",
        "def peak_processing(peaks,randomlist_xf):\n",
        "  #remove all peaks with xf value below 450, between 700 and 1600, and above 2500\n",
        "  for i in peaks:\n",
        "    if((randomlist_xf[i]<450) or\n",
        "      #((randomlist_xf[i]>700) and (randomlist_xf[i]<1600))or\n",
        "      (randomlist_xf[i]>2500)):\n",
        "      peaks = np.delete(peaks,np.argwhere(peaks == i))\n",
        "  peaks_list = randomlist_xf[peaks]\n",
        "  return peaks_list\n",
        "\n",
        "def trough_processing(troughs,randomlist_xf):\n",
        "  #if the smallest trough that's below 450 is below 350  replace it with 350\n",
        "  if(randomlist_xf[troughs].min()<350):\n",
        "    troughs_list = np.where(randomlist_xf[troughs]<350,350,randomlist_xf[troughs])\n",
        "  else:\n",
        "    troughs_list = np.append([350], randomlist_xf[troughs], axis = 0)\n",
        "  return troughs_list\n",
        "\n",
        "def generate_boundaries(peaks_list,troughs_list):\n",
        "  #getting the boundaries for the female call\n",
        "  i = 0\n",
        "  while(troughs_list[i] < peaks_list[0]):\n",
        "    i+=1\n",
        "  upper_bound_0 = troughs_list[i]\n",
        "  lower_bound_0 = troughs_list[i-1]\n",
        "\n",
        "  #getting the boundaries for the male call\n",
        "  while(troughs_list[i] < peaks_list[1]):\n",
        "    i+=1\n",
        "  upper_bound_1 = troughs_list[i]\n",
        "  #the lower bound of the male call: take the \n",
        "  #difference between the upper bound and the peak,\n",
        "  #and use the peak value to subtract the difference\n",
        "  difference = upper_bound_1 - peaks_list[1]\n",
        "  lower_bound_1 = peaks_list[1] - difference\n",
        "  #the lower bound of male call can't go below 1500Hz for\n",
        "  #Xenopus Laevis or Xenopus Petersii\n",
        "  if(lower_bound_1 < 1500):\n",
        "    lower_bound_1 = 1500\n",
        "  boundary_list = [150,lower_bound_0,upper_bound_0,lower_bound_1,3000]\n",
        "  return boundary_list\n",
        "\n",
        "def write_audio(samples,lowerlimit,upperlimit,points_per_freq,file_name,specific_name,sampling_rate=44100):\n",
        "  yf_special = rfft(samples)\n",
        "  clear_out(lowerlimit,upperlimit,yf_special,points_per_freq)\n",
        "  new_sig = irfft(yf_special)\n",
        "  write(file_name+specific_name,sampling_rate,new_sig)"
      ],
      "metadata": {
        "id": "1G_nPh0BU-ur"
      },
      "execution_count": 11,
      "outputs": []
    },
    {
      "cell_type": "code",
      "source": [
        "def separation_for_IPI_calculating(file_path,sampling_rate=44100):\n",
        "  file_name = os.path.basename(file_path)\n",
        "  #load audio file\n",
        "  samples, sampling_rate = librosa.load(file_path,sr=sampling_rate)\n",
        "\n",
        "  #perform fourier transform on the data\n",
        "  xf,yf = fourier_transform(samples, sampling_rate)\n",
        "\n",
        "  #get the number of points per frequency\n",
        "  points_per_freq = len(xf) / (sampling_rate / 2)\n",
        "\n",
        "  #rough clean of data for smoothing\n",
        "  clear_out(150,3000,yf,points_per_freq)\n",
        "\n",
        "  #sample down audio file to 23274 data points\n",
        "  randomlist = random.sample(list(range(0,(len(xf)-1))),23274)\n",
        "  randomlist.sort()\n",
        "  randomlist_xf = xf[randomlist]\n",
        "  randomlist_yf = np.abs(yf)[randomlist]\n",
        "\n",
        "  peaks,troughs,y_smoothed = smooth_curve(randomlist_yf)\n",
        "\n",
        "  #data processing on the peaks and troughs\n",
        "  peaks_list = peak_processing(peaks,randomlist_xf)\n",
        "  troughs_list = trough_processing(troughs,randomlist_xf)\n",
        "\n",
        "  boundary_list = generate_boundaries(peaks_list,troughs_list)\n",
        "\n",
        "  #plot the graph\n",
        "  '''\n",
        "  plt.figure(figsize=(20,5))\n",
        "  plt.plot(xf,np.abs(yf),color=\"grey\")\n",
        "  plt.plot(randomlist_xf,y_smoothed,color=\"red\")\n",
        "  plt.plot(randomlist_xf[peaks],y_smoothed[peaks],\"x\")\n",
        "  plt.plot(randomlist_xf[troughs],y_smoothed[troughs],\"o\",color=\"green\")\n",
        "  plt.vlines(boundary_list,-10,3000,colors='black', linestyles='dashed')\n",
        "  ticks = np.concatenate([np.arange(0, 4000, step=1000),boundary_list])\n",
        "  ticks.sort()\n",
        "  plt.xticks(ticks)\n",
        "  plt.xlim((0,4000))\n",
        "  plt.show()\n",
        "  '''\n",
        "  #obtain female signal\n",
        "  yf_special = rfft(samples)\n",
        "  clear_out(boundary_list[1],boundary_list[2],yf_special,points_per_freq)\n",
        "  female = irfft(yf_special)\n",
        "\n",
        "  #obtain noise signal\n",
        "  yf_special = rfft(samples)\n",
        "  clear_out(boundary_list[0],350,yf_special,points_per_freq)\n",
        "  noise = irfft(yf_special)\n",
        "\n",
        "  print('female lower bound: ',boundary_list[1])\n",
        "  print('female higher bound: ',boundary_list[2])\n",
        "  return female, noise"
      ],
      "metadata": {
        "id": "2CJQB5qBUUjf"
      },
      "execution_count": 12,
      "outputs": []
    },
    {
      "cell_type": "markdown",
      "source": [
        "###Wave Envelope and Find Peaks"
      ],
      "metadata": {
        "id": "qz8FNZa4WbuB"
      }
    },
    {
      "cell_type": "code",
      "source": [
        "#get statistics on rapping IPI\n",
        "def get_rapping_IPI_stats(peak_indices_list,x_time):\n",
        "  IPI = []\n",
        "  for i in range(0,len(peak_indices_list)-1):\n",
        "    front = peak_indices_list[i]\n",
        "    back = peak_indices_list[i+1]\n",
        "    difference = x_time[back] - x_time[front]\n",
        "    IPI.append(difference)\n",
        "  #Assumption: Rapping is categorized by 3 or more consecutive pulses within 1 second.\n",
        "  i=0\n",
        "  IPI_processed = []\n",
        "  while (i < (len(IPI)-2)):\n",
        "  #while(0):\n",
        "    if((IPI[i]+IPI[i+1])<1):\n",
        "      IPI_processed.append(IPI[i])\n",
        "      IPI_processed.append(IPI[i+1])\n",
        "      k = 2\n",
        "      while(1):\n",
        "        if((IPI[i+k]<0.5)and(i+k <(len(IPI)-1))):\n",
        "          IPI_processed.append(IPI[i+k])\n",
        "          k=k+1\n",
        "        else:\n",
        "          i = i+k+1\n",
        "          break\n",
        "    else:\n",
        "      i=i+1\n",
        "  #generate statistics for rapping IPI plot\n",
        "  std = np.std(IPI_processed)\n",
        "  mean = np.mean(IPI_processed)\n",
        "  median = np.median(IPI_processed)\n",
        "\n",
        "  IPI_processed = [i for i in IPI_processed if (i<median+2*std)]\n",
        "\n",
        "  std = np.std(IPI_processed)\n",
        "  mean = np.mean(IPI_processed)\n",
        "  median = np.median(IPI_processed)\n",
        "  return IPI_processed, mean, median, std"
      ],
      "metadata": {
        "id": "TzK_0wL7Wa8S"
      },
      "execution_count": 13,
      "outputs": []
    },
    {
      "cell_type": "code",
      "source": [
        "def IPI_calculation(file_path):\n",
        "  female, noise = separation_for_IPI_calculating(file_path)\n",
        "  hilbert_signal = abs(signal.hilbert(female))\n",
        "  #time vector\n",
        "  sampling_rate = 44100\n",
        "  duration = len(hilbert_signal)/sampling_rate\n",
        "  x_time = np.arange(0,duration,1/sampling_rate)\n",
        "  threshold = 0.05*np.max(hilbert_signal)\n",
        "  peaks, _  = scipy.signal.find_peaks(hilbert_signal,height=threshold,distance=0.05*44100)\n",
        "  plt.figure(figsize=(20,5))\n",
        "  plt.plot(x_time, hilbert_signal)\n",
        "  plt.plot(x_time[peaks], hilbert_signal[peaks], 'x')\n",
        "  #plt.xlim(40*44100, 41*44100)\n",
        "  plt.show()\n",
        "\n",
        "  IPI_processed,mean,median,std = get_rapping_IPI_stats(peaks,x_time)\n",
        "  print(\"Mean: \", mean,\"; Median: \",median, \"; STD: \", std)"
      ],
      "metadata": {
        "id": "DDdx76jcXAsM"
      },
      "execution_count": 14,
      "outputs": []
    },
    {
      "cell_type": "markdown",
      "source": [
        "###Execution Function"
      ],
      "metadata": {
        "id": "SoqfzN5iXHWN"
      }
    },
    {
      "cell_type": "code",
      "execution_count": 92,
      "metadata": {
        "id": "IMTLSKiMRN41"
      },
      "outputs": [],
      "source": [
        "def female_bimodal_separation(file_path):\n",
        "  female, noise = separation_for_IPI_calculating(file_path)\n",
        "  hilbert_signal = abs(signal.hilbert(female))\n",
        "  #time vector\n",
        "  sampling_rate = 44100\n",
        "  duration = len(hilbert_signal)/sampling_rate\n",
        "  x_time = np.arange(0,duration,1/sampling_rate)\n",
        "  threshold = 0.05*np.max(hilbert_signal)\n",
        "  peaks, _  = scipy.signal.find_peaks(hilbert_signal,height=threshold,distance=0.05*44100)\n",
        "  '''\n",
        "  plt.figure(figsize=(20,5))\n",
        "  plt.plot(x_time, hilbert_signal)\n",
        "  plt.plot(x_time[peaks], hilbert_signal[peaks], 'x')\n",
        "  #plt.xlim(40*44100, 41*44100)\n",
        "  plt.show()\n",
        "  '''\n",
        "  IPI_processed,mean,median,std = get_rapping_IPI_stats(peaks,x_time)\n",
        "  df = pd.DataFrame (IPI_processed, columns = ['IPI_processed'])\n",
        "  return df"
      ]
    },
    {
      "cell_type": "markdown",
      "source": [
        "####Poweri execution\n",
        "\n"
      ],
      "metadata": {
        "id": "DwYrsp-wtRcz"
      }
    },
    {
      "cell_type": "markdown",
      "source": [
        "#####First Individual Poweri"
      ],
      "metadata": {
        "id": "Lfgl9e6YuMcc"
      }
    },
    {
      "cell_type": "code",
      "source": [
        "df = female_bimodal_separation('/content/Poweri_03-AD7ED-AD7F8-220713_1913_8_min.wav')"
      ],
      "metadata": {
        "colab": {
          "base_uri": "https://localhost:8080/"
        },
        "id": "yB6AGsl3tUrR",
        "outputId": "c1067828-4010-4f32-b80a-81075cb1a72e"
      },
      "execution_count": 100,
      "outputs": [
        {
          "output_type": "stream",
          "name": "stdout",
          "text": [
            "female lower bound:  474.464339069948\n",
            "female higher bound:  1256.6624268030125\n"
          ]
        }
      ]
    },
    {
      "cell_type": "code",
      "source": [
        "ax = df.plot.kde(color=\"blue\")\n",
        "df.plot.hist(bins=30,ax=ax)\n",
        "plt.xlim(0,0.5)"
      ],
      "metadata": {
        "colab": {
          "base_uri": "https://localhost:8080/",
          "height": 283
        },
        "id": "rbMjYP-3qKkU",
        "outputId": "4ac4add3-39b6-4cdb-a46f-2661c703a3bd"
      },
      "execution_count": 101,
      "outputs": [
        {
          "output_type": "execute_result",
          "data": {
            "text/plain": [
              "(0.0, 0.5)"
            ]
          },
          "metadata": {},
          "execution_count": 101
        },
        {
          "output_type": "display_data",
          "data": {
            "text/plain": [
              "<Figure size 432x288 with 1 Axes>"
            ],
            "image/png": "[encoded data removed]"
          },
          "metadata": {
            "needs_background": "light"
          }
        }
      ]
    },
    {
      "cell_type": "code",
      "source": [
        "ax = df.plot.kde(color=\"blue\")\n",
        "plt.close()\n",
        "line = ax.lines[0]\n",
        "x = line.get_xdata()\n",
        "y = line.get_ydata()\n",
        "\n",
        "peaks = scipy.signal.find_peaks(y)\n",
        "peaks = peaks[0]\n",
        "\n",
        "plt.figure(figsize=(10,7))\n",
        "plt.plot(x,y)\n",
        "plt.plot(x[peaks],y[peaks],'x')\n",
        "plt.xlim(0,0.5)\n",
        "plt.xlabel('Inter-Pulse Interval (s)',fontsize=14,labelpad=10)\n",
        "plt.ylabel('Density',fontsize=14,labelpad=10)\n",
        "\n",
        "#print medians\n",
        "Median_1 = x[peaks][0]\n",
        "Median_2 = x[peaks][1]\n",
        "\n",
        "plt.text(Median_1+0.01,0.5,s=\"Median_1 = \"+format(Median_1, \".2f\"))\n",
        "plt.text(Median_2+0.01,0.5,s=\"Median_2 = \"+format(Median_2, \".2f\"))\n",
        "\n",
        "plt.axvline(Median_1,linestyle=\"dashed\",color=\"grey\")\n",
        "plt.axvline(Median_2,linestyle=\"dashed\",color=\"grey\")\n",
        "\n",
        "plt.show()\n",
        "\n",
        "print('Median 1: ', Median_1)\n",
        "print('Median 2: ', Median_2)"
      ],
      "metadata": {
        "colab": {
          "base_uri": "https://localhost:8080/",
          "height": 488
        },
        "id": "cBJuPGUwbptb",
        "outputId": "3d605cc3-58bf-46b1-9aee-386bf98ed434"
      },
      "execution_count": 116,
      "outputs": [
        {
          "output_type": "display_data",
          "data": {
            "text/plain": [
              "<Figure size 720x504 with 1 Axes>"
            ],
            "image/png": "[encoded data removed]"
          },
          "metadata": {
            "needs_background": "light"
          }
        },
        {
          "output_type": "stream",
          "name": "stdout",
          "text": [
            "Median 1:  0.12762776381824528\n",
            "Median 2:  0.25126187411900996\n"
          ]
        }
      ]
    },
    {
      "cell_type": "markdown",
      "source": [
        "#####Second Individual Poweri"
      ],
      "metadata": {
        "id": "up8ayep1uIhu"
      }
    },
    {
      "cell_type": "code",
      "source": [
        "#second individual\n",
        "df = female_bimodal_separation('/content/Poweri_02-AD826-AD80A-220712_0006_8_min.wav')\n",
        "ax = df.plot.kde(color=\"blue\")\n",
        "plt.close()\n",
        "line = ax.lines[0]\n",
        "x = line.get_xdata()\n",
        "y = line.get_ydata()\n",
        "\n",
        "peaks = scipy.signal.find_peaks(y)\n",
        "peaks = peaks[0]\n",
        "\n",
        "plt.figure(figsize=(10,7))\n",
        "plt.plot(x,y)\n",
        "plt.plot(x[peaks],y[peaks],'x')\n",
        "plt.xlim(0,0.5)\n",
        "plt.xlabel('Inter-Pulse Interval (s)',fontsize=14,labelpad=10)\n",
        "plt.ylabel('Density',fontsize=14,labelpad=10)\n",
        "plt.show()\n",
        "\n",
        "#print medians\n",
        "Median_1 = x[peaks][0]\n",
        "Median_2 = x[peaks][1]\n",
        "print('Median 1: ', Median_1)\n",
        "print('Median 2: ', Median_2)"
      ],
      "metadata": {
        "colab": {
          "base_uri": "https://localhost:8080/",
          "height": 523
        },
        "id": "Pd5-RQpRuAhi",
        "outputId": "397ff944-7b48-4635-d791-23a9b4e83b06"
      },
      "execution_count": 97,
      "outputs": [
        {
          "output_type": "stream",
          "name": "stdout",
          "text": [
            "female lower bound:  365.9178988037821\n",
            "female higher bound:  841.6052444777883\n"
          ]
        },
        {
          "output_type": "display_data",
          "data": {
            "text/plain": [
              "<Figure size 720x504 with 1 Axes>"
            ],
            "image/png": "[encoded data removed]"
          },
          "metadata": {
            "needs_background": "light"
          }
        },
        {
          "output_type": "stream",
          "name": "stdout",
          "text": [
            "Median 1:  0.11943746467556099\n",
            "Median 2:  0.30854094457269365\n"
          ]
        }
      ]
    },
    {
      "cell_type": "markdown",
      "source": [
        "####Petersii execution"
      ],
      "metadata": {
        "id": "mzq0af_StnPr"
      }
    },
    {
      "cell_type": "code",
      "source": [
        ""
      ],
      "metadata": {
        "id": "YRnDHw0YuUpm"
      },
      "execution_count": null,
      "outputs": []
    }
  ]
}